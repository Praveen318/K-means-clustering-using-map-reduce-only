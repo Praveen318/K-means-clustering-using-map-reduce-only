{
 "cells": [
  {
   "cell_type": "markdown",
   "metadata": {
    "application/vnd.databricks.v1+cell": {
     "cellMetadata": {
      "byteLimit": 2048000,
      "rowLimit": 10000
     },
     "inputWidgets": {},
     "nuid": "1a5d74df-b1dd-414c-ae64-a356479e4ec4",
     "showTitle": false,
     "title": ""
    }
   },
   "source": [
    "\n",
    "# Mid-Term Assignment-1\n",
    "\n",
    "#### Team\n",
    "###### Kishnu Srivastav - 24PGAI0042\n",
    "###### Praveen Kumar Singh - 24PGAI0068\n",
    "###### Harshit Mishra - 24PGAI0076\n",
    "###### Soham Sanyal - 24PGAI0055"
   ]
  },
  {
   "cell_type": "code",
   "execution_count": 0,
   "metadata": {
    "application/vnd.databricks.v1+cell": {
     "cellMetadata": {
      "byteLimit": 2048000,
      "rowLimit": 10000
     },
     "inputWidgets": {},
     "nuid": "4f920f29-1d85-4a74-84b0-5fb7f83a3c8c",
     "showTitle": false,
     "title": ""
    }
   },
   "outputs": [
    {
     "output_type": "display_data",
     "data": {
      "text/html": [
       "\n",
       "            <div>\n",
       "                <p><b>SparkSession - hive</b></p>\n",
       "                \n",
       "        <div>\n",
       "            <p><b>SparkContext</b></p>\n",
       "\n",
       "            <p><a href=\"/?o=5310005861608239#setting/sparkui/0923-151941-zgis77xe/driver-5129080304982073211\">Spark UI</a></p>\n",
       "\n",
       "            <dl>\n",
       "              <dt>Version</dt>\n",
       "                <dd><code>v3.3.2</code></dd>\n",
       "              <dt>Master</dt>\n",
       "                <dd><code>local[8]</code></dd>\n",
       "              <dt>AppName</dt>\n",
       "                <dd><code>Databricks Shell</code></dd>\n",
       "            </dl>\n",
       "        </div>\n",
       "        \n",
       "            </div>\n",
       "        "
      ]
     },
     "metadata": {
      "application/vnd.databricks.v1+output": {
       "addedWidgets": {},
       "arguments": {},
       "data": "\n            <div>\n                <p><b>SparkSession - hive</b></p>\n                \n        <div>\n            <p><b>SparkContext</b></p>\n\n            <p><a href=\"/?o=5310005861608239#setting/sparkui/0923-151941-zgis77xe/driver-5129080304982073211\">Spark UI</a></p>\n\n            <dl>\n              <dt>Version</dt>\n                <dd><code>v3.3.2</code></dd>\n              <dt>Master</dt>\n                <dd><code>local[8]</code></dd>\n              <dt>AppName</dt>\n                <dd><code>Databricks Shell</code></dd>\n            </dl>\n        </div>\n        \n            </div>\n        ",
       "datasetInfos": [],
       "metadata": {},
       "removedWidgets": [],
       "textData": null,
       "type": "htmlSandbox"
      }
     },
     "output_type": "display_data"
    }
   ],
   "source": [
    "# Spark Context Created.. Let's verify it\n",
    "spark"
   ]
  },
  {
   "cell_type": "code",
   "execution_count": 0,
   "metadata": {
    "application/vnd.databricks.v1+cell": {
     "cellMetadata": {
      "byteLimit": 2048000,
      "rowLimit": 10000
     },
     "inputWidgets": {},
     "nuid": "bcf36ccb-5726-4304-8de5-27c7ec1c20a1",
     "showTitle": false,
     "title": ""
    }
   },
   "outputs": [],
   "source": [
    "sc = spark.sparkContext"
   ]
  },
  {
   "cell_type": "markdown",
   "metadata": {
    "application/vnd.databricks.v1+cell": {
     "cellMetadata": {
      "byteLimit": 2048000,
      "rowLimit": 10000
     },
     "inputWidgets": {},
     "nuid": "17b11540-30a4-42ed-86df-76248d644cb3",
     "showTitle": false,
     "title": ""
    }
   },
   "source": [
    "\n",
    "#### Read the customerdata.csv file from local system"
   ]
  },
  {
   "cell_type": "code",
   "execution_count": 0,
   "metadata": {
    "application/vnd.databricks.v1+cell": {
     "cellMetadata": {
      "byteLimit": 2048000,
      "rowLimit": 10000
     },
     "inputWidgets": {},
     "nuid": "4bad8f49-e421-4f7e-a560-be4e7c573c9b",
     "showTitle": false,
     "title": ""
    }
   },
   "outputs": [
    {
     "output_type": "display_data",
     "data": {
      "text/html": [
       "<style scoped>\n",
       "  .table-result-container {\n",
       "    max-height: 300px;\n",
       "    overflow: auto;\n",
       "  }\n",
       "  table, th, td {\n",
       "    border: 1px solid black;\n",
       "    border-collapse: collapse;\n",
       "  }\n",
       "  th, td {\n",
       "    padding: 5px;\n",
       "  }\n",
       "  th {\n",
       "    text-align: left;\n",
       "  }\n",
       "</style><div class='table-result-container'><table class='table-result'><thead style='background-color: white'><tr><th>path</th><th>name</th><th>size</th><th>modificationTime</th></tr></thead><tbody><tr><td>dbfs:/FileStore/tables/jio2023/bestcaptains/</td><td>bestcaptains/</td><td>0</td><td>0</td></tr><tr><td>dbfs:/FileStore/tables/jio2023/bestcaptains2/</td><td>bestcaptains2/</td><td>0</td><td>0</td></tr><tr><td>dbfs:/FileStore/tables/jio2023/bestc|aptains/</td><td>bestc|aptains/</td><td>0</td><td>0</td></tr><tr><td>dbfs:/FileStore/tables/jio2023/captains_ODI-1.csv</td><td>captains_ODI-1.csv</td><td>4510</td><td>1694579190000</td></tr><tr><td>dbfs:/FileStore/tables/jio2023/captains_ODI-2.csv</td><td>captains_ODI-2.csv</td><td>4510</td><td>1694682547000</td></tr><tr><td>dbfs:/FileStore/tables/jio2023/captains_ODI.csv</td><td>captains_ODI.csv</td><td>4510</td><td>1694489682000</td></tr><tr><td>dbfs:/FileStore/tables/jio2023/captains_Test-1.csv</td><td>captains_Test-1.csv</td><td>3332</td><td>1694579190000</td></tr><tr><td>dbfs:/FileStore/tables/jio2023/captains_Test-2.csv</td><td>captains_Test-2.csv</td><td>3332</td><td>1694682547000</td></tr><tr><td>dbfs:/FileStore/tables/jio2023/captains_Test.csv</td><td>captains_Test.csv</td><td>3332</td><td>1694489682000</td></tr><tr><td>dbfs:/FileStore/tables/jio2023/customerdata.csv</td><td>customerdata.csv</td><td>4499</td><td>1695005686000</td></tr><tr><td>dbfs:/FileStore/tables/jio2023/fooddelivery</td><td>fooddelivery</td><td>12346</td><td>1694407489000</td></tr><tr><td>dbfs:/FileStore/tables/jio2023/fooddelivery-1</td><td>fooddelivery-1</td><td>12346</td><td>1694414309000</td></tr><tr><td>dbfs:/FileStore/tables/jio2023/groceries-1.csv</td><td>groceries-1.csv</td><td>500843</td><td>1694579194000</td></tr><tr><td>dbfs:/FileStore/tables/jio2023/groceries-2.csv</td><td>groceries-2.csv</td><td>500843</td><td>1694682550000</td></tr><tr><td>dbfs:/FileStore/tables/jio2023/groceries.csv</td><td>groceries.csv</td><td>500843</td><td>1694489684000</td></tr></tbody></table></div>"
      ]
     },
     "metadata": {
      "application/vnd.databricks.v1+output": {
       "addedWidgets": {},
       "aggData": [],
       "aggError": "",
       "aggOverflow": false,
       "aggSchema": [],
       "aggSeriesLimitReached": false,
       "aggType": "",
       "arguments": {},
       "columnCustomDisplayInfos": {},
       "data": [
        [
         "dbfs:/FileStore/tables/jio2023/bestcaptains/",
         "bestcaptains/",
         0,
         0
        ],
        [
         "dbfs:/FileStore/tables/jio2023/bestcaptains2/",
         "bestcaptains2/",
         0,
         0
        ],
        [
         "dbfs:/FileStore/tables/jio2023/bestc|aptains/",
         "bestc|aptains/",
         0,
         0
        ],
        [
         "dbfs:/FileStore/tables/jio2023/captains_ODI-1.csv",
         "captains_ODI-1.csv",
         4510,
         1694579190000
        ],
        [
         "dbfs:/FileStore/tables/jio2023/captains_ODI-2.csv",
         "captains_ODI-2.csv",
         4510,
         1694682547000
        ],
        [
         "dbfs:/FileStore/tables/jio2023/captains_ODI.csv",
         "captains_ODI.csv",
         4510,
         1694489682000
        ],
        [
         "dbfs:/FileStore/tables/jio2023/captains_Test-1.csv",
         "captains_Test-1.csv",
         3332,
         1694579190000
        ],
        [
         "dbfs:/FileStore/tables/jio2023/captains_Test-2.csv",
         "captains_Test-2.csv",
         3332,
         1694682547000
        ],
        [
         "dbfs:/FileStore/tables/jio2023/captains_Test.csv",
         "captains_Test.csv",
         3332,
         1694489682000
        ],
        [
         "dbfs:/FileStore/tables/jio2023/customerdata.csv",
         "customerdata.csv",
         4499,
         1695005686000
        ],
        [
         "dbfs:/FileStore/tables/jio2023/fooddelivery",
         "fooddelivery",
         12346,
         1694407489000
        ],
        [
         "dbfs:/FileStore/tables/jio2023/fooddelivery-1",
         "fooddelivery-1",
         12346,
         1694414309000
        ],
        [
         "dbfs:/FileStore/tables/jio2023/groceries-1.csv",
         "groceries-1.csv",
         500843,
         1694579194000
        ],
        [
         "dbfs:/FileStore/tables/jio2023/groceries-2.csv",
         "groceries-2.csv",
         500843,
         1694682550000
        ],
        [
         "dbfs:/FileStore/tables/jio2023/groceries.csv",
         "groceries.csv",
         500843,
         1694489684000
        ]
       ],
       "datasetInfos": [],
       "dbfsResultPath": null,
       "isJsonSchema": true,
       "metadata": {
        "isDbfsCommandResult": false
       },
       "overflow": false,
       "plotOptions": {
        "customPlotOptions": {},
        "displayType": "table",
        "pivotAggregation": null,
        "pivotColumns": null,
        "xColumns": null,
        "yColumns": null
       },
       "removedWidgets": [],
       "schema": [
        {
         "metadata": "{}",
         "name": "path",
         "type": "\"string\""
        },
        {
         "metadata": "{}",
         "name": "name",
         "type": "\"string\""
        },
        {
         "metadata": "{}",
         "name": "size",
         "type": "\"long\""
        },
        {
         "metadata": "{}",
         "name": "modificationTime",
         "type": "\"long\""
        }
       ],
       "type": "table"
      }
     },
     "output_type": "display_data"
    }
   ],
   "source": [
    "%fs ls /FileStore/tables/jio2023/"
   ]
  },
  {
   "cell_type": "code",
   "execution_count": 0,
   "metadata": {
    "application/vnd.databricks.v1+cell": {
     "cellMetadata": {
      "byteLimit": 2048000,
      "rowLimit": 10000
     },
     "inputWidgets": {},
     "nuid": "9113324c-97ff-44aa-866f-3269347fac67",
     "showTitle": false,
     "title": ""
    }
   },
   "outputs": [],
   "source": [
    "customers = sc.textFile( \"/FileStore/tables/jio2023/customerdata.csv\" )"
   ]
  },
  {
   "cell_type": "markdown",
   "metadata": {
    "application/vnd.databricks.v1+cell": {
     "cellMetadata": {
      "byteLimit": 2048000,
      "rowLimit": 10000
     },
     "inputWidgets": {},
     "nuid": "70cbc255-f7a8-4976-9256-4532666b7530",
     "showTitle": false,
     "title": ""
    }
   },
   "source": [
    "\n",
    "#### Show first 10 records # Customer_Id Income Age"
   ]
  },
  {
   "cell_type": "code",
   "execution_count": 0,
   "metadata": {
    "application/vnd.databricks.v1+cell": {
     "cellMetadata": {
      "byteLimit": 2048000,
      "rowLimit": 10000
     },
     "inputWidgets": {},
     "nuid": "21bf614c-3b95-4eaf-9bdf-ffe756ab1446",
     "showTitle": false,
     "title": ""
    }
   },
   "outputs": [
    {
     "output_type": "stream",
     "name": "stdout",
     "output_type": "stream",
     "text": [
      "Out[4]: ['1,41100,48.75',\n '2,54100,28.1',\n '3,47800,46.75',\n '4,19100,40.25',\n '5,18200,35.8',\n '6,19800,41.45',\n '7,51500,31.55',\n '8,39900,48.2',\n '9,13000,36.8',\n '10,31900,43.05']"
     ]
    }
   ],
   "source": [
    "customers.take(10)"
   ]
  },
  {
   "cell_type": "markdown",
   "metadata": {
    "application/vnd.databricks.v1+cell": {
     "cellMetadata": {
      "byteLimit": 2048000,
      "rowLimit": 10000
     },
     "inputWidgets": {},
     "nuid": "14cd422d-f029-4263-a8cd-39e4276163bb",
     "showTitle": false,
     "title": ""
    }
   },
   "source": [
    "\n",
    "\n",
    "#### Creating list of tuples"
   ]
  },
  {
   "cell_type": "code",
   "execution_count": 0,
   "metadata": {
    "application/vnd.databricks.v1+cell": {
     "cellMetadata": {
      "byteLimit": 2048000,
      "rowLimit": 10000
     },
     "inputWidgets": {},
     "nuid": "aa89d9e9-0910-468a-b549-40246448bff2",
     "showTitle": false,
     "title": ""
    }
   },
   "outputs": [],
   "source": [
    "def parse_record(record):\n",
    "    \"\"\"\n",
    "    Parses a comma-separated record into a tuple of customer information.\n",
    "\n",
    "    Args:\n",
    "        record (str): A comma-separated string containing customer information.\n",
    "\n",
    "    Returns:\n",
    "        tuple: A tuple with customer ID as the first element, and a nested tuple with\n",
    "               income (int) and age (float) as the second element.\n",
    "               Returns None if parsing fails.\n",
    "    \"\"\"\n",
    "    labels = record.split(',')\n",
    "    try:\n",
    "        customer_id = labels[0]\n",
    "        income = int(labels[1])\n",
    "        age = float(labels[2])\n",
    "        return (customer_id, (income, age))\n",
    "    except (IndexError, ValueError):\n",
    "        return None\n",
    "\n",
    "cus_conv = customers.map(lambda line: parse_record(line))"
   ]
  },
  {
   "cell_type": "markdown",
   "metadata": {
    "application/vnd.databricks.v1+cell": {
     "cellMetadata": {
      "byteLimit": 2048000,
      "rowLimit": 10000
     },
     "inputWidgets": {},
     "nuid": "99149293-9779-401d-ac3f-2f664286c1f8",
     "showTitle": false,
     "title": ""
    }
   },
   "source": [
    "\n",
    "#### Show new formatted records"
   ]
  },
  {
   "cell_type": "code",
   "execution_count": 0,
   "metadata": {
    "application/vnd.databricks.v1+cell": {
     "cellMetadata": {
      "byteLimit": 2048000,
      "rowLimit": 10000
     },
     "inputWidgets": {},
     "nuid": "9209d58b-6056-4ed5-9ec8-22c0843ccc41",
     "showTitle": false,
     "title": ""
    }
   },
   "outputs": [
    {
     "output_type": "stream",
     "name": "stdout",
     "output_type": "stream",
     "text": [
      "Out[6]: [('1', (41100, 48.75)),\n ('2', (54100, 28.1)),\n ('3', (47800, 46.75)),\n ('4', (19100, 40.25)),\n ('5', (18200, 35.8)),\n ('6', (19800, 41.45)),\n ('7', (51500, 31.55)),\n ('8', (39900, 48.2)),\n ('9', (13000, 36.8)),\n ('10', (31900, 43.05))]"
     ]
    }
   ],
   "source": [
    "cus_conv.take(10)"
   ]
  },
  {
   "cell_type": "markdown",
   "metadata": {
    "application/vnd.databricks.v1+cell": {
     "cellMetadata": {
      "byteLimit": 2048000,
      "rowLimit": 10000
     },
     "inputWidgets": {},
     "nuid": "3f99a275-9b1c-404c-a39e-6f72f66cc542",
     "showTitle": false,
     "title": ""
    }
   },
   "source": [
    "\n",
    "#### Extract income and age values"
   ]
  },
  {
   "cell_type": "code",
   "execution_count": 0,
   "metadata": {
    "application/vnd.databricks.v1+cell": {
     "cellMetadata": {
      "byteLimit": 2048000,
      "rowLimit": 10000
     },
     "inputWidgets": {},
     "nuid": "e546b2b1-950c-44f4-adbf-df294686a82c",
     "showTitle": false,
     "title": ""
    }
   },
   "outputs": [
    {
     "output_type": "stream",
     "name": "stdout",
     "output_type": "stream",
     "text": [
      "Out[7]: (50.4, 26.7, 60200, 3100)"
     ]
    }
   ],
   "source": [
    "# Extract income and age values\n",
    "incomes = cus_conv.map(lambda rec: rec[1][0])\n",
    "ages = cus_conv.map(lambda rec: rec[1][1])\n",
    "\n",
    "# Calculate max and min values\n",
    "max_income = incomes.reduce(max)\n",
    "min_income = incomes.reduce(min)\n",
    "max_age = ages.reduce(max)\n",
    "min_age = ages.reduce(min)\n",
    "\n",
    "max_age, min_age, max_income, min_income"
   ]
  },
  {
   "cell_type": "markdown",
   "metadata": {
    "application/vnd.databricks.v1+cell": {
     "cellMetadata": {
      "byteLimit": 2048000,
      "rowLimit": 10000
     },
     "inputWidgets": {},
     "nuid": "50f81840-2dbb-48a7-a6fc-cdb1a9c990f9",
     "showTitle": false,
     "title": ""
    }
   },
   "source": [
    "\n",
    "####   Normalizes a data point based on income and age using min-max scaling"
   ]
  },
  {
   "cell_type": "code",
   "execution_count": 0,
   "metadata": {
    "application/vnd.databricks.v1+cell": {
     "cellMetadata": {
      "byteLimit": 2048000,
      "rowLimit": 10000
     },
     "inputWidgets": {},
     "nuid": "14d9ba4b-5ce0-4177-bfd7-ad6ef4e4f0da",
     "showTitle": false,
     "title": ""
    }
   },
   "outputs": [
    {
     "output_type": "stream",
     "name": "stdout",
     "output_type": "stream",
     "text": [
      "Out[8]: [(0.6654991243432574, 0.9303797468354431),\n (0.8931698774080561, 0.059071729957806),\n (0.7828371278458844, 0.8459915611814347),\n (0.28021015761821366, 0.5717299578059072),\n (0.26444833625218916, 0.3839662447257383),\n (0.29246935201401053, 0.6223628691983124),\n (0.8476357267950964, 0.20464135021097052),\n (0.6444833625218914, 0.9071729957805909),\n (0.1733800350262697, 0.4261603375527425),\n (0.5043782837127846, 0.6898734177215189)]"
     ]
    }
   ],
   "source": [
    "def normalize_data_points(data_point, min_income, max_income, min_age, max_age):\n",
    "    \"\"\"\n",
    "    Args:\n",
    "        data_point (tuple): A tuple containing income (int) and age (float).\n",
    "        min_income (int): Minimum income in the dataset.\n",
    "        max_income (int): Maximum income in the dataset.\n",
    "        min_age (float): Minimum age in the dataset.\n",
    "        max_age (float): Maximum age in the dataset.\n",
    "\n",
    "    Returns:\n",
    "        tuple: A tuple with normalized income and age values.\n",
    "    \"\"\"\n",
    "    income, age = data_point\n",
    "    normalized_income = (income - min_income) / (max_income - min_income)\n",
    "    normalized_age = (age - min_age) / (max_age - min_age)\n",
    "    return (normalized_income, normalized_age)\n",
    "\n",
    "# Assuming 'cus_conv' contains customer data in the format (customer_id, (income, age))\n",
    "normalized_data_points = cus_conv.map(lambda rec: normalize_data_points(rec[1], min_income, max_income, min_age, max_age))\n",
    "\n",
    "# Take the first 10 normalized data points\n",
    "normalized_data_points.take(10)\n"
   ]
  },
  {
   "cell_type": "markdown",
   "metadata": {
    "application/vnd.databricks.v1+cell": {
     "cellMetadata": {
      "byteLimit": 2048000,
      "rowLimit": 10000
     },
     "inputWidgets": {},
     "nuid": "a8f2b2f7-4daf-450c-a83e-bbc26a73800a",
     "showTitle": false,
     "title": ""
    }
   },
   "source": [
    "\n",
    "#### Broadcast the initial cluster centers to all nodes in the Spark cluster"
   ]
  },
  {
   "cell_type": "code",
   "execution_count": 0,
   "metadata": {
    "application/vnd.databricks.v1+cell": {
     "cellMetadata": {
      "byteLimit": 2048000,
      "rowLimit": 10000
     },
     "inputWidgets": {},
     "nuid": "78d70ed1-7acd-4600-ad8f-b4ce697f7318",
     "showTitle": false,
     "title": ""
    }
   },
   "outputs": [
    {
     "output_type": "stream",
     "name": "stdout",
     "output_type": "stream",
     "text": [
      "Out[9]: [(0.6672504378283712, 0.8691983122362869),\n (0.16637478108581435, 0.5316455696202531),\n (0.6672504378283712, 0.6687763713080168),\n (0.26444833625218916, 0.3839662447257383),\n (0.9176882661996497, 0.10548523206751055)]"
     ]
    }
   ],
   "source": [
    "# Given number of clusters\n",
    "num_clusters = 5\n",
    "\n",
    "# Randomly initialize cluster centers\n",
    "initial_centers = normalized_data_points.takeSample(False, num_clusters)\n",
    "\n",
    "# Broadcast the initial cluster centers to all nodes in the Spark cluster\n",
    "initial_centers_broadcast = sc.broadcast(initial_centers)\n",
    "\n",
    "# Access the value of the broadcasted cluster centers\n",
    "initial_centers_broadcast.value\n"
   ]
  },
  {
   "cell_type": "markdown",
   "metadata": {
    "application/vnd.databricks.v1+cell": {
     "cellMetadata": {
      "byteLimit": 2048000,
      "rowLimit": 10000
     },
     "inputWidgets": {},
     "nuid": "e2976764-6423-4752-bb47-2a2af34c1782",
     "showTitle": false,
     "title": ""
    }
   },
   "source": [
    "\n",
    "####  Calculate the Manhattan distance between two points in a 2D space."
   ]
  },
  {
   "cell_type": "code",
   "execution_count": 0,
   "metadata": {
    "application/vnd.databricks.v1+cell": {
     "cellMetadata": {
      "byteLimit": 2048000,
      "rowLimit": 10000
     },
     "inputWidgets": {},
     "nuid": "393423bc-5b4a-4767-8582-c673b2db7ee3",
     "showTitle": false,
     "title": ""
    }
   },
   "outputs": [],
   "source": [
    "def calculate_manhattan_distance(point_a, point_b):\n",
    "    \"\"\"\n",
    "    Args:\n",
    "        point_a (tuple): A tuple representing the first point (x, y).\n",
    "        point_b (tuple): A tuple representing the second point (x, y).\n",
    "\n",
    "    Returns:\n",
    "        float: The Manhattan distance between the two points.\n",
    "    \"\"\"\n",
    "    distance = abs(point_a[0] - point_b[0]) + abs(point_a[1] - point_b[1])\n",
    "    return distance\n"
   ]
  },
  {
   "cell_type": "markdown",
   "metadata": {
    "application/vnd.databricks.v1+cell": {
     "cellMetadata": {
      "byteLimit": 2048000,
      "rowLimit": 10000
     },
     "inputWidgets": {},
     "nuid": "01fcb5a2-d994-42a3-a494-10c8b86164ed",
     "showTitle": false,
     "title": ""
    }
   },
   "source": [
    "\n",
    "####    Assign an initial cluster to a data point based on the Manhattan distance to cluster centers.\n"
   ]
  },
  {
   "cell_type": "code",
   "execution_count": 0,
   "metadata": {
    "application/vnd.databricks.v1+cell": {
     "cellMetadata": {
      "byteLimit": 2048000,
      "rowLimit": 10000
     },
     "inputWidgets": {},
     "nuid": "40d9aff0-c3f3-48d2-9f98-28a1c5ae7c79",
     "showTitle": false,
     "title": ""
    }
   },
   "outputs": [
    {
     "output_type": "stream",
     "name": "stdout",
     "output_type": "stream",
     "text": [
      "Out[11]: [((0.6672504378283712, 0.8691983122362869),\n  (0.6654991243432574, 0.9303797468354431)),\n ((0.9176882661996497, 0.10548523206751055),\n  (0.8931698774080561, 0.059071729957806)),\n ((0.6672504378283712, 0.8691983122362869),\n  (0.7828371278458844, 0.8459915611814347)),\n ((0.16637478108581435, 0.5316455696202531),\n  (0.28021015761821366, 0.5717299578059072)),\n ((0.26444833625218916, 0.3839662447257383),\n  (0.26444833625218916, 0.3839662447257383)),\n ((0.16637478108581435, 0.5316455696202531),\n  (0.29246935201401053, 0.6223628691983124)),\n ((0.9176882661996497, 0.10548523206751055),\n  (0.8476357267950964, 0.20464135021097052)),\n ((0.6672504378283712, 0.8691983122362869),\n  (0.6444833625218914, 0.9071729957805909)),\n ((0.16637478108581435, 0.5316455696202531),\n  (0.1733800350262697, 0.4261603375527425)),\n ((0.6672504378283712, 0.6687763713080168),\n  (0.5043782837127846, 0.6898734177215189))]"
     ]
    }
   ],
   "source": [
    "def assign_initial_cluster_to_datapoint(data_point, initial_centers):\n",
    "    \"\"\"\n",
    "    Args:\n",
    "        data_point (tuple): A tuple representing a data point (x, y).\n",
    "        initial_centers (list): A list of initial cluster centers.\n",
    "\n",
    "    Returns:\n",
    "        tuple: A tuple with the assigned cluster center and its corresponding Manhattan distance.\n",
    "    \"\"\"\n",
    "    # Calculate Manhattan distances to each initial cluster center\n",
    "    distances = [(calculate_manhattan_distance(data_point, center), center) for center in initial_centers]\n",
    "\n",
    "    # Sort distances and return the closest cluster center\n",
    "    closest_cluster = sorted(distances, key=lambda rec: rec[0])[0]\n",
    "    return closest_cluster\n",
    "\n",
    "# Assign initial clusters to normalized data points\n",
    "initial_centers = initial_centers_broadcast.value\n",
    "norm_data_clustered = normalized_data_points.map(lambda rec: (assign_initial_cluster_to_datapoint(rec, initial_centers)[1], rec))\n",
    "\n",
    "# Take the first 10 cluster assignments\n",
    "norm_data_clustered.take(10)\n"
   ]
  },
  {
   "cell_type": "markdown",
   "metadata": {
    "application/vnd.databricks.v1+cell": {
     "cellMetadata": {
      "byteLimit": 2048000,
      "rowLimit": 10000
     },
     "inputWidgets": {},
     "nuid": "b1ab169c-4887-4ac9-89cf-deaac9f4d30f",
     "showTitle": false,
     "title": ""
    }
   },
   "source": [
    "\n",
    "####    Calculate the centroid of a cluster based on its data points.\n"
   ]
  },
  {
   "cell_type": "code",
   "execution_count": 0,
   "metadata": {
    "application/vnd.databricks.v1+cell": {
     "cellMetadata": {
      "byteLimit": 2048000,
      "rowLimit": 10000
     },
     "inputWidgets": {},
     "nuid": "cc125436-ab9f-4f3d-898f-80199b547739",
     "showTitle": false,
     "title": ""
    }
   },
   "outputs": [],
   "source": [
    "def calculate_centroid(data_points):\n",
    "    \"\"\"\n",
    "    Args:\n",
    "        data_points (list): A list of data points represented as tuples.\n",
    "\n",
    "    Returns:\n",
    "        tuple: The centroid of the cluster as a tuple.\n",
    "    \"\"\"\n",
    "    num_points = len(data_points)\n",
    "    if num_points == 0:\n",
    "        return None\n",
    "\n",
    "    # Calculate the sum of x and y values for all data points\n",
    "    sum_x = sum(point[0] for point in data_points)\n",
    "    sum_y = sum(point[1] for point in data_points)\n",
    "\n",
    "    # Calculate the centroid by dividing the sums by the number of data points\n",
    "    centroid = (sum_x / num_points, sum_y / num_points)\n",
    "    return centroid\n"
   ]
  },
  {
   "cell_type": "markdown",
   "metadata": {
    "application/vnd.databricks.v1+cell": {
     "cellMetadata": {
      "byteLimit": 2048000,
      "rowLimit": 10000
     },
     "inputWidgets": {},
     "nuid": "cfca91c5-3306-474b-a31a-a19e4200a2e3",
     "showTitle": false,
     "title": ""
    }
   },
   "source": [
    "\n",
    "#### Calculate new cluster centers based on the clustered data"
   ]
  },
  {
   "cell_type": "code",
   "execution_count": 0,
   "metadata": {
    "application/vnd.databricks.v1+cell": {
     "cellMetadata": {
      "byteLimit": 2048000,
      "rowLimit": 10000
     },
     "inputWidgets": {},
     "nuid": "7856e835-e5d9-4cac-a5a0-2d44c90d1bb4",
     "showTitle": false,
     "title": ""
    }
   },
   "outputs": [
    {
     "output_type": "stream",
     "name": "stdout",
     "output_type": "stream",
     "text": [
      "Out[13]: [((0.6672504378283712, 0.8691983122362869),\n  (0.7116795930281044, 0.873367490456098)),\n ((0.9176882661996497, 0.10548523206751055),\n  (0.9125043782837128, 0.11324894514767936)),\n ((0.16637478108581435, 0.5316455696202531),\n  (0.22378224346225767, 0.5690123721662019)),\n ((0.26444833625218916, 0.3839662447257383),\n  (0.29516368045264724, 0.3465595585848751)),\n ((0.6672504378283712, 0.6687763713080168),\n  (0.6301338907406362, 0.6959303116918472))]"
     ]
    }
   ],
   "source": [
    "def calculate_new_centers(clustered_data):\n",
    "    \"\"\"\n",
    "    Calculate new cluster centers based on clustered data.\n",
    "\n",
    "    Args:\n",
    "        clustered_data (RDD): An RDD containing clustered data.\n",
    "\n",
    "    Returns:\n",
    "        list: A list of tuples representing the new cluster centers.\n",
    "    \"\"\"\n",
    "    # Group data by cluster and calculate the centroid for each cluster\n",
    "    centers = norm_data_clustered.groupByKey().map(lambda rec: (rec[0], calculate_centroid(list(rec[1]))))\n",
    "\n",
    "    # Broadcast the new cluster centers to all nodes in the Spark cluster\n",
    "    new_centers_broadcast = sc.broadcast(centers.collect())\n",
    "    return new_centers_broadcast.value\n",
    "\n",
    "new_cluster_centers = calculate_new_centers(norm_data_clustered)\n",
    "new_cluster_centers"
   ]
  },
  {
   "cell_type": "markdown",
   "metadata": {
    "application/vnd.databricks.v1+cell": {
     "cellMetadata": {
      "byteLimit": 2048000,
      "rowLimit": 10000
     },
     "inputWidgets": {},
     "nuid": "a720564e-bc55-4f4d-adfb-6117e57ca11d",
     "showTitle": false,
     "title": ""
    }
   },
   "source": [
    "\n",
    "####  Assign a new cluster to a data point based on the Manhattan distance to new cluster centers."
   ]
  },
  {
   "cell_type": "code",
   "execution_count": 0,
   "metadata": {
    "application/vnd.databricks.v1+cell": {
     "cellMetadata": {
      "byteLimit": 2048000,
      "rowLimit": 10000
     },
     "inputWidgets": {},
     "nuid": "e374da0f-7324-458e-96a6-63716d7ef0ab",
     "showTitle": false,
     "title": ""
    }
   },
   "outputs": [
    {
     "output_type": "stream",
     "name": "stdout",
     "output_type": "stream",
     "text": [
      "Out[14]: [((0.22378224346225767, 0.5690123721662019),\n  (0.28021015761821366, 0.5717299578059072)),\n ((0.22378224346225767, 0.5690123721662019),\n  (0.29246935201401053, 0.6223628691983124)),\n ((0.22378224346225767, 0.5690123721662019),\n  (0.1733800350262697, 0.4261603375527425)),\n ((0.22378224346225767, 0.5690123721662019),\n  (0.26444833625218916, 0.609704641350211)),\n ((0.22378224346225767, 0.5690123721662019),\n  (0.3327495621716287, 0.8417721518987342)),\n ((0.22378224346225767, 0.5690123721662019),\n  (0.2381786339754816, 0.5696202531645571)),\n ((0.22378224346225767, 0.5690123721662019),\n  (0.17688266199649738, 0.5168776371308018)),\n ((0.22378224346225767, 0.5690123721662019),\n  (0.1646234676007005, 0.49156118143459926)),\n ((0.22378224346225767, 0.5690123721662019),\n  (0.05253940455341506, 0.44725738396624465)),\n ((0.22378224346225767, 0.5690123721662019),\n  (0.27495621716287216, 0.7109704641350211))]"
     ]
    }
   ],
   "source": [
    "def assign_new_cluster_to_datapoint(data_point, new_centers):\n",
    "    \"\"\"\n",
    "\n",
    "    Args:\n",
    "        data_point (tuple): A tuple representing a data point (x, y).\n",
    "        new_centers (list): A list of tuples representing new cluster centers.\n",
    "\n",
    "    Returns:\n",
    "        tuple: A tuple with the assigned cluster center and its corresponding Manhattan distance.\n",
    "    \"\"\"\n",
    "    # Calculate Manhattan distances to each new cluster center\n",
    "    distances = [(calculate_manhattan_distance(data_point[1], center[1]), center[1]) for center in new_centers]\n",
    "\n",
    "    # Sort distances and return the closest new cluster center\n",
    "    closest_cluster = sorted(distances, key=lambda rec: rec[0])[0]\n",
    "    return closest_cluster\n",
    "\n",
    "# Assign new clusters to data points based on new cluster centers\n",
    "norm_data_clustered = norm_data_clustered.map(lambda rec: (assign_new_cluster_to_datapoint(rec, new_cluster_centers)[1],rec[1])).sortByKey()\n",
    "\n",
    "# Take the first 10 data points with new cluster assignments\n",
    "norm_data_clustered.take(10)\n"
   ]
  },
  {
   "cell_type": "markdown",
   "metadata": {
    "application/vnd.databricks.v1+cell": {
     "cellMetadata": {
      "byteLimit": 2048000,
      "rowLimit": 10000
     },
     "inputWidgets": {},
     "nuid": "7a586da7-29b0-47c3-9a09-856976e7c43d",
     "showTitle": false,
     "title": ""
    }
   },
   "source": [
    "\n",
    "\n",
    "#### Perform clustering for a specified number of iterations.\n"
   ]
  },
  {
   "cell_type": "code",
   "execution_count": 0,
   "metadata": {
    "application/vnd.databricks.v1+cell": {
     "cellMetadata": {
      "byteLimit": 2048000,
      "rowLimit": 10000
     },
     "inputWidgets": {},
     "nuid": "059588b4-09cc-4c84-a880-1c631057dcbf",
     "showTitle": false,
     "title": ""
    }
   },
   "outputs": [
    {
     "output_type": "stream",
     "name": "stdout",
     "output_type": "stream",
     "text": [
      "Out[15]: [((0.24030143819986197, 0.5786344457230534),\n  (0.28021015761821366, 0.5717299578059072)),\n ((0.24030143819986197, 0.5786344457230534),\n  (0.29246935201401053, 0.6223628691983124)),\n ((0.28590192644483364, 0.33263009845288327),\n  (0.1733800350262697, 0.4261603375527425)),\n ((0.24030143819986197, 0.5786344457230534),\n  (0.26444833625218916, 0.609704641350211)),\n ((0.24030143819986197, 0.5786344457230534),\n  (0.3327495621716287, 0.8417721518987342)),\n ((0.24030143819986197, 0.5786344457230534),\n  (0.2381786339754816, 0.5696202531645571)),\n ((0.24030143819986197, 0.5786344457230534),\n  (0.17688266199649738, 0.5168776371308018)),\n ((0.24030143819986197, 0.5786344457230534),\n  (0.1646234676007005, 0.49156118143459926)),\n ((0.24030143819986197, 0.5786344457230534),\n  (0.05253940455341506, 0.44725738396624465)),\n ((0.24030143819986197, 0.5786344457230534),\n  (0.27495621716287216, 0.7109704641350211))]"
     ]
    }
   ],
   "source": [
    "def cluster_results(clustered_data, num_iterations):\n",
    "    \"\"\"  \n",
    "    Args:\n",
    "        clustered_data (RDD): An RDD containing clustered data.\n",
    "        num_iterations (int): The number of iterations for clustering.\n",
    "\n",
    "    Returns:\n",
    "        RDD: The clustered data after the specified number of iterations.\n",
    "    \"\"\"\n",
    "    for i in range(num_iterations):\n",
    "        # Calculate new cluster centers\n",
    "        new_cluster_centers = calculate_new_centers(clustered_data)\n",
    "        \n",
    "        # Assign new clusters to data points\n",
    "        clustered_data = clustered_data.map(lambda rec: (assign_new_cluster_to_datapoint(rec, new_cluster_centers)[1], rec[1]))\n",
    "\n",
    "    return clustered_data\n",
    "\n",
    "num_iterations = 30\n",
    "\n",
    "# Perform clustering for 30 iterations\n",
    "final_clustered_data = cluster_results(norm_data_clustered, num_iterations)\n",
    "final_clustered_data.take(10)"
   ]
  },
  {
   "cell_type": "code",
   "execution_count": 0,
   "metadata": {
    "application/vnd.databricks.v1+cell": {
     "cellMetadata": {
      "byteLimit": 2048000,
      "rowLimit": 10000
     },
     "inputWidgets": {},
     "nuid": "b511e402-b1f0-45da-bc7d-e74a5c543687",
     "showTitle": false,
     "title": ""
    }
   },
   "outputs": [
    {
     "output_type": "stream",
     "name": "stdout",
     "output_type": "stream",
     "text": [
      "Out[16]: [((0.24030143819986197, 0.5786344457230534),\n  (0.28021015761821366, 0.5717299578059072)),\n ((0.24030143819986197, 0.5786344457230534),\n  (0.29246935201401053, 0.6223628691983124)),\n ((0.28590192644483364, 0.33263009845288327),\n  (0.1733800350262697, 0.4261603375527425)),\n ((0.24030143819986197, 0.5786344457230534),\n  (0.26444833625218916, 0.609704641350211)),\n ((0.24030143819986197, 0.5786344457230534),\n  (0.3327495621716287, 0.8417721518987342)),\n ((0.24030143819986197, 0.5786344457230534),\n  (0.2381786339754816, 0.5696202531645571)),\n ((0.24030143819986197, 0.5786344457230534),\n  (0.17688266199649738, 0.5168776371308018)),\n ((0.24030143819986197, 0.5786344457230534),\n  (0.1646234676007005, 0.49156118143459926)),\n ((0.24030143819986197, 0.5786344457230534),\n  (0.05253940455341506, 0.44725738396624465)),\n ((0.24030143819986197, 0.5786344457230534),\n  (0.27495621716287216, 0.7109704641350211)),\n ((0.24030143819986197, 0.5786344457230534),\n  (0.3117338003502627, 0.5590717299578061)),\n ((0.24030143819986197, 0.5786344457230534),\n  (0.4290718038528897, 0.6181434599156119)),\n ((0.24030143819986197, 0.5786344457230534),\n  (0.22066549912434325, 0.5843881856540084)),\n ((0.24030143819986197, 0.5786344457230534),\n  (0.2084063047285464, 0.7362869198312236)),\n ((0.24030143819986197, 0.5786344457230534),\n  (0.3905429071803853, 0.5527426160337552)),\n ((0.24030143819986197, 0.5786344457230534),\n  (0.3520140105078809, 0.6983122362869199)),\n ((0.24030143819986197, 0.5786344457230534),\n  (0.0017513134851138354, 0.5464135021097046)),\n ((0.24030143819986197, 0.5786344457230534),\n  (0.14711033274956217, 0.7362869198312236)),\n ((0.24030143819986197, 0.5786344457230534),\n  (0.010507880910683012, 0.5801687763713081)),\n ((0.24030143819986197, 0.5786344457230534), (0.0, 0.6708860759493672)),\n ((0.24030143819986197, 0.5786344457230534),\n  (0.39929947460595444, 0.527426160337553)),\n ((0.24030143819986197, 0.5786344457230534),\n  (0.1190893169877408, 0.4556962025316456)),\n ((0.24030143819986197, 0.5786344457230534),\n  (0.1138353765323993, 0.6624472573839663)),\n ((0.24030143819986197, 0.5786344457230534),\n  (0.425569176882662, 0.5084388185654009)),\n ((0.24030143819986197, 0.5786344457230534),\n  (0.10157618213660245, 0.6054852320675105)),\n ((0.24030143819986197, 0.5786344457230534),\n  (0.17162872154115585, 0.5907172995780592)),\n ((0.24030143819986197, 0.5786344457230534),\n  (0.3345008756567426, 0.5991561181434599)),\n ((0.24030143819986197, 0.5786344457230534),\n  (0.2591943957968476, 0.5168776371308018)),\n ((0.24030143819986197, 0.5786344457230534),\n  (0.2434325744308231, 0.4789029535864978)),\n ((0.24030143819986197, 0.5786344457230534),\n  (0.017513134851138354, 0.6033755274261604)),\n ((0.24030143819986197, 0.5786344457230534),\n  (0.03502626970227671, 0.5611814345991561)),\n ((0.24030143819986197, 0.5786344457230534),\n  (0.34851138353765326, 0.5843881856540084)),\n ((0.24030143819986197, 0.5786344457230534),\n  (0.2486865148861646, 0.4578059071729957)),\n ((0.24030143819986197, 0.5786344457230534),\n  (0.13485113835376533, 0.4578059071729957)),\n ((0.24030143819986197, 0.5786344457230534),\n  (0.28546409807355516, 0.5759493670886077)),\n ((0.24030143819986197, 0.5786344457230534),\n  (0.2609457092819615, 0.7679324894514767)),\n ((0.24030143819986197, 0.5786344457230534),\n  (0.3975481611208406, 0.5843881856540084)),\n ((0.24030143819986197, 0.5786344457230534),\n  (0.2539404553415061, 0.5084388185654009)),\n ((0.24030143819986197, 0.5786344457230534),\n  (0.3257443082311734, 0.8016877637130804)),\n ((0.24030143819986197, 0.5786344457230534),\n  (0.22416812609457093, 0.4746835443037976)),\n ((0.24030143819986197, 0.5786344457230534),\n  (0.404553415061296, 0.630801687763713)),\n ((0.24030143819986197, 0.5786344457230534),\n  (0.3345008756567426, 0.6350210970464135)),\n ((0.24030143819986197, 0.5786344457230534),\n  (0.3922942206654991, 0.5443037974683546)),\n ((0.24030143819986197, 0.5786344457230534),\n  (0.38879159369527144, 0.5548523206751056)),\n ((0.24030143819986197, 0.5786344457230534),\n  (0.21015761821366025, 0.5696202531645571)),\n ((0.24030143819986197, 0.5786344457230534),\n  (0.2329246935201401, 0.5126582278481013)),\n ((0.24030143819986197, 0.5786344457230534),\n  (0.16637478108581435, 0.5316455696202531)),\n ((0.24030143819986197, 0.5786344457230534),\n  (0.27495621716287216, 0.5569620253164557)),\n ((0.24030143819986197, 0.5786344457230534),\n  (0.15236427320490367, 0.6603375527426162)),\n ((0.24030143819986197, 0.5786344457230534),\n  (0.20140105078809106, 0.5738396624472573)),\n ((0.24030143819986197, 0.5786344457230534),\n  (0.043782837127845885, 0.4641350210970466)),\n ((0.24030143819986197, 0.5786344457230534),\n  (0.16112084063047286, 0.6645569620253167)),\n ((0.24030143819986197, 0.5786344457230534),\n  (0.29597197898423816, 0.6582278481012658)),\n ((0.24030143819986197, 0.5786344457230534),\n  (0.3572679509632224, 0.609704641350211)),\n ((0.24030143819986197, 0.5786344457230534),\n  (0.22942206654991243, 0.9008438818565401)),\n ((0.28590192644483364, 0.33263009845288327),\n  (0.12609457092819615, 0.430379746835443)),\n ((0.24030143819986197, 0.5786344457230534),\n  (0.18038528896672504, 0.4810126582278482)),\n ((0.24030143819986197, 0.5786344457230534),\n  (0.3362521891418564, 0.5654008438818566)),\n ((0.24030143819986197, 0.5786344457230534),\n  (0.4413309982486865, 0.5527426160337552)),\n ((0.24030143819986197, 0.5786344457230534),\n  (0.19614711033274956, 0.527426160337553)),\n ((0.24030143819986197, 0.5786344457230534),\n  (0.3380035026269702, 0.537974683544304)),\n ((0.24030143819986197, 0.5786344457230534),\n  (0.21015761821366025, 0.4683544303797468)),\n ((0.24030143819986197, 0.5786344457230534),\n  (0.31523642732049034, 0.5358649789029536)),\n ((0.24030143819986197, 0.5786344457230534),\n  (0.17513134851138354, 0.5780590717299577)),\n ((0.24030143819986197, 0.5786344457230534),\n  (0.266199649737303, 0.527426160337553)),\n ((0.24030143819986197, 0.5786344457230534),\n  (0.4063047285464098, 0.5042194092827004)),\n ((0.28590192644483364, 0.33263009845288327),\n  (0.26444833625218916, 0.3839662447257383)),\n ((0.28590192644483364, 0.33263009845288327),\n  (0.08581436077057793, 0.4135021097046414)),\n ((0.24030143819986197, 0.5786344457230534),\n  (0.36427320490367776, 0.48945147679324885)),\n ((0.28590192644483364, 0.33263009845288327),\n  (0.4238178633975482, 0.16666666666666663)),\n ((0.28590192644483364, 0.33263009845288327),\n  (0.2434325744308231, 0.0949367088607595)),\n ((0.28590192644483364, 0.33263009845288327),\n  (0.436077057793345, 0.45147679324894513)),\n ((0.28590192644483364, 0.33263009845288327),\n  (0.2276707530647986, 0.39873417721518983)),\n ((0.28590192644483364, 0.33263009845288327),\n  (0.09106830122591944, 0.3122362869198313)),\n ((0.28590192644483364, 0.33263009845288327),\n  (0.2679509632224168, 0.42405063291139244)),\n ((0.28590192644483364, 0.33263009845288327),\n  (0.2434325744308231, 0.3734177215189873)),\n ((0.28590192644483364, 0.33263009845288327),\n  (0.3204903677758319, 0.4135021097046414)),\n ((0.28590192644483364, 0.33263009845288327),\n  (0.3467600700525394, 0.40084388185654024)),\n ((0.28590192644483364, 0.33263009845288327),\n  (0.3169877408056042, 0.3649789029535866)),\n ((0.28590192644483364, 0.33263009845288327),\n  (0.26444833625218916, 0.4092827004219409)),\n ((0.28590192644483364, 0.33263009845288327),\n  (0.3467600700525394, 0.2742616033755276)),\n ((0.28590192644483364, 0.33263009845288327),\n  (0.2574430823117338, 0.43881856540084396)),\n ((0.28590192644483364, 0.33263009845288327),\n  (0.3975481611208406, 0.15189873417721525)),\n ((0.28590192644483364, 0.33263009845288327),\n  (0.2329246935201401, 0.21940928270042193)),\n ((0.28590192644483364, 0.33263009845288327),\n  (0.12784588441331, 0.2531645569620255)),\n ((0.28590192644483364, 0.33263009845288327),\n  (0.4063047285464098, 0.13924050632911394)),\n ((0.28590192644483364, 0.33263009845288327),\n  (0.45359019264448336, 0.4135021097046414)),\n ((0.28590192644483364, 0.33263009845288327),\n  (0.23467600700525393, 0.3354430379746835)),\n ((0.28590192644483364, 0.33263009845288327),\n  (0.31523642732049034, 0.2805907172995782)),\n ((0.28590192644483364, 0.33263009845288327),\n  (0.19264448336252188, 0.3797468354430381)),\n ((0.6361938120256859, 0.7121659634317863),\n  (0.5043782837127846, 0.6898734177215189)),\n ((0.6361938120256859, 0.7121659634317863),\n  (0.7565674255691769, 0.7426160337552742)),\n ((0.6361938120256859, 0.7121659634317863),\n  (0.6567425569176882, 0.7172995780590719)),\n ((0.6361938120256859, 0.7121659634317863),\n  (0.7740805604203153, 0.7004219409282699)),\n ((0.6361938120256859, 0.7121659634317863),\n  (0.649737302977233, 0.79957805907173)),\n ((0.6361938120256859, 0.7121659634317863),\n  (0.7267950963222417, 0.738396624472574)),\n ((0.6361938120256859, 0.7121659634317863),\n  (0.47810858143607704, 0.7974683544303799)),\n ((0.6361938120256859, 0.7121659634317863),\n  (0.637478108581436, 0.7974683544303799)),\n ((0.6361938120256859, 0.7121659634317863),\n  (0.6725043782837128, 0.7784810126582279)),\n ((0.6361938120256859, 0.7121659634317863),\n  (0.7040280210157618, 0.719409282700422)),\n ((0.6361938120256859, 0.7121659634317863),\n  (0.4010507880910683, 0.7468354430379747)),\n ((0.6361938120256859, 0.7121659634317863),\n  (0.6847635726795096, 0.6476793248945147)),\n ((0.6361938120256859, 0.7121659634317863),\n  (0.7618213660245184, 0.7067510548523208)),\n ((0.6361938120256859, 0.7121659634317863),\n  (0.6935201401050788, 0.7362869198312236)),\n ((0.6361938120256859, 0.7121659634317863),\n  (0.861646234676007, 0.7215189873417721)),\n ((0.6361938120256859, 0.7121659634317863),\n  (0.6725043782837128, 0.6898734177215189)),\n ((0.6361938120256859, 0.7121659634317863),\n  (0.4063047285464098, 0.7531645569620252)),\n ((0.6361938120256859, 0.7121659634317863),\n  (0.6672504378283712, 0.6687763713080168)),\n ((0.6361938120256859, 0.7121659634317863),\n  (0.809106830122592, 0.7320675105485231)),\n ((0.24030143819986197, 0.5786344457230534),\n  (0.38528896672504376, 0.6962025316455698)),\n ((0.6361938120256859, 0.7121659634317863),\n  (0.7740805604203153, 0.7004219409282699)),\n ((0.6361938120256859, 0.7121659634317863),\n  (0.8879159369527145, 0.7130801687763714)),\n ((0.6361938120256859, 0.7121659634317863),\n  (0.5376532399299475, 0.537974683544304)),\n ((0.6361938120256859, 0.7121659634317863),\n  (0.660245183887916, 0.7067510548523208)),\n ((0.6361938120256859, 0.7121659634317863),\n  (0.5043782837127846, 0.6455696202531646)),\n ((0.6361938120256859, 0.7121659634317863),\n  (0.4763572679509632, 0.6265822784810126)),\n ((0.6361938120256859, 0.7121659634317863),\n  (0.6164623467600701, 0.818565400843882)),\n ((0.6361938120256859, 0.7121659634317863),\n  (0.425569176882662, 0.7362869198312236)),\n ((0.6361938120256859, 0.7121659634317863),\n  (0.6777583187390543, 0.7658227848101267)),\n ((0.6361938120256859, 0.7121659634317863),\n  (0.6217162872154116, 0.5337552742616035)),\n ((0.7298161120840632, 0.8747626582278484),\n  (0.6654991243432574, 0.9303797468354431)),\n ((0.7298161120840632, 0.8747626582278484),\n  (0.7828371278458844, 0.8459915611814347)),\n ((0.7298161120840632, 0.8747626582278484),\n  (0.6444833625218914, 0.9071729957805909)),\n ((0.7298161120840632, 0.8747626582278484),\n  (0.7600700525394045, 0.8649789029535867)),\n ((0.7298161120840632, 0.8747626582278484),\n  (0.7583187390542907, 0.7784810126582279)),\n ((0.7298161120840632, 0.8747626582278484),\n  (0.7513134851138353, 0.7637130801687763)),\n ((0.7298161120840632, 0.8747626582278484),\n  (0.6672504378283712, 0.8691983122362869)),\n ((0.7298161120840632, 0.8747626582278484),\n  (0.6549912434325744, 0.9261603375527426)),\n ((0.7298161120840632, 0.8747626582278484),\n  (0.6760070052539404, 0.8818565400843883)),\n ((0.7298161120840632, 0.8747626582278484),\n  (0.6654991243432574, 0.839662447257384)),\n ((0.7298161120840632, 0.8747626582278484),\n  (0.7110332749562172, 0.9029535864978904)),\n ((0.7298161120840632, 0.8747626582278484),\n  (0.8371278458844134, 0.9599156118143461)),\n ((0.7298161120840632, 0.8747626582278484),\n  (0.6830122591943958, 0.839662447257384)),\n ((0.7298161120840632, 0.8747626582278484),\n  (0.6847635726795096, 0.8924050632911393)),\n ((0.7298161120840632, 0.8747626582278484),\n  (0.7443082311733801, 0.917721518987342)),\n ((0.7298161120840632, 0.8747626582278484),\n  (0.7040280210157618, 0.8164556962025316)),\n ((0.7298161120840632, 0.8747626582278484),\n  (0.7338003502626971, 0.8607594936708862)),\n ((0.7298161120840632, 0.8747626582278484),\n  (0.7933450087565674, 0.8628691983122363)),\n ((0.7298161120840632, 0.8747626582278484),\n  (0.6777583187390543, 0.9662447257383967)),\n ((0.7298161120840632, 0.8747626582278484),\n  (0.8966725043782837, 0.9156118143459916)),\n ((0.7298161120840632, 0.8747626582278484),\n  (0.7250437828371279, 0.9810126582278483)),\n ((0.7298161120840632, 0.8747626582278484),\n  (0.8336252189141856, 0.818565400843882)),\n ((0.7298161120840632, 0.8747626582278484),\n  (0.6409807355516638, 0.917721518987342)),\n ((0.7298161120840632, 0.8747626582278484),\n  (0.7302977232924693, 0.9873417721518989)),\n ((0.7298161120840632, 0.8747626582278484),\n  (0.8073555166374781, 0.8924050632911393)),\n ((0.7298161120840632, 0.8747626582278484),\n  (0.7968476357267951, 0.8227848101265824)),\n ((0.7298161120840632, 0.8747626582278484),\n  (0.7548161120840631, 0.8966244725738398)),\n ((0.7298161120840632, 0.8747626582278484),\n  (0.6567425569176882, 0.8945147679324894)),\n ((0.7298161120840632, 0.8747626582278484),\n  (0.8809106830122592, 0.9493670886075951)),\n ((0.7298161120840632, 0.8747626582278484),\n  (0.7390542907180385, 0.8691983122362869)),\n ((0.7298161120840632, 0.8747626582278484),\n  (0.6514886164623468, 0.839662447257384)),\n ((0.7298161120840632, 0.8747626582278484),\n  (0.8598949211908932, 0.9135021097046415)),\n ((0.7298161120840632, 0.8747626582278484),\n  (0.6830122591943958, 0.8059071729957805)),\n ((0.7298161120840632, 0.8747626582278484),\n  (0.647985989492119, 0.9113924050632911)),\n ((0.7298161120840632, 0.8747626582278484),\n  (0.6427320490367776, 0.9008438818565401)),\n ((0.7298161120840632, 0.8747626582278484),\n  (0.6935201401050788, 0.79957805907173)),\n ((0.7298161120840632, 0.8747626582278484),\n  (0.7005253940455342, 0.9388185654008441)),\n ((0.7298161120840632, 0.8747626582278484), (0.6094570928196147, 1.0)),\n ((0.7298161120840632, 0.8747626582278484),\n  (0.8161120840630472, 0.9367088607594937)),\n ((0.7298161120840632, 0.8747626582278484),\n  (0.6690017513134852, 0.9978902953586499)),\n ((0.7298161120840632, 0.8747626582278484),\n  (0.7898423817863398, 0.7805907172995782)),\n ((0.7298161120840632, 0.8747626582278484),\n  (0.7705779334500875, 0.818565400843882)),\n ((0.7298161120840632, 0.8747626582278484),\n  (0.7320490367775832, 0.820675105485232)),\n ((0.7298161120840632, 0.8747626582278484),\n  (0.6847635726795096, 0.8059071729957805)),\n ((0.7298161120840632, 0.8747626582278484), (0.6952714535901926, 1.0)),\n ((0.7298161120840632, 0.8747626582278484),\n  (0.8336252189141856, 0.9957805907172995)),\n ((0.6361938120256859, 0.7121659634317863),\n  (0.7565674255691769, 0.7447257383966246)),\n ((0.7298161120840632, 0.8747626582278484),\n  (0.7390542907180385, 0.9599156118143461)),\n ((0.7298161120840632, 0.8747626582278484),\n  (0.7215411558669002, 0.8713080168776373)),\n ((0.7298161120840632, 0.8747626582278484),\n  (0.702276707530648, 0.810126582278481)),\n ((0.7298161120840632, 0.8747626582278484),\n  (0.7267950963222417, 0.8734177215189873)),\n ((0.7298161120840632, 0.8747626582278484),\n  (0.7513134851138353, 0.9472573839662447)),\n ((0.7298161120840632, 0.8747626582278484),\n  (0.723292469352014, 0.7805907172995782)),\n ((0.7298161120840632, 0.8747626582278484),\n  (0.7723292469352014, 0.9135021097046415)),\n ((0.7298161120840632, 0.8747626582278484),\n  (0.6252189141856392, 0.8734177215189873)),\n ((0.7298161120840632, 0.8747626582278484),\n  (0.6987740805604203, 0.9915611814345994)),\n ((0.7298161120840632, 0.8747626582278484),\n  (0.7425569176882661, 0.8016877637130804)),\n ((0.7298161120840632, 0.8747626582278484),\n  (0.7057793345008757, 0.8502109704641352)),\n ((0.7298161120840632, 0.8747626582278484),\n  (0.6147110332749562, 0.8755274261603377)),\n ((0.7298161120840632, 0.8747626582278484),\n  (0.7408056042031523, 0.8691983122362869)),\n ((0.6361938120256859, 0.7121659634317863),\n  (0.7005253940455342, 0.7721518987341772)),\n ((0.7298161120840632, 0.8747626582278484), (0.647985989492119, 1.0)),\n ((0.6361938120256859, 0.7121659634317863),\n  (0.6690017513134852, 0.7869198312236289)),\n ((0.7298161120840632, 0.8747626582278484),\n  (0.7075306479859895, 0.8417721518987342)),\n ((0.7298161120840632, 0.8747626582278484),\n  (0.7408056042031523, 0.8902953586497889)),\n ((0.7298161120840632, 0.8747626582278484),\n  (0.7775831873905429, 0.8713080168776373)),\n ((0.7298161120840632, 0.8747626582278484),\n  (0.6392294220665499, 0.8586497890295358)),\n ((0.7298161120840632, 0.8747626582278484),\n  (0.7968476357267951, 0.8227848101265824)),\n ((0.7298161120840632, 0.8747626582278484),\n  (0.8126094570928196, 0.820675105485232)),\n ((0.6361938120256859, 0.7121659634317863),\n  (0.809106830122592, 0.7447257383966246)),\n ((0.7298161120840632, 0.8747626582278484),\n  (0.5516637478108581, 0.8924050632911393)),\n ((0.7298161120840632, 0.8747626582278484),\n  (0.681260945709282, 0.8227848101265824)),\n ((0.7298161120840632, 0.8747626582278484),\n  (0.7898423817863398, 0.7742616033755274)),\n ((0.7298161120840632, 0.8747626582278484),\n  (0.7828371278458844, 0.9050632911392406)),\n ((0.7298161120840632, 0.8747626582278484),\n  (0.6970227670753065, 0.8375527426160337)),\n ((0.7298161120840632, 0.8747626582278484),\n  (0.7968476357267951, 0.8438818565400845)),\n ((0.7298161120840632, 0.8747626582278484),\n  (0.8651488616462347, 0.9620253164556962)),\n ((0.7298161120840632, 0.8747626582278484),\n  (0.8126094570928196, 0.8628691983122363)),\n ((0.7298161120840632, 0.8747626582278484),\n  (0.7810858143607706, 0.8481012658227848)),\n ((0.7298161120840632, 0.8747626582278484),\n  (0.7670753064798599, 0.8227848101265824)),\n ((0.9125043782837128, 0.11324894514767936),\n  (0.8931698774080561, 0.059071729957806)),\n ((0.9125043782837128, 0.11324894514767936),\n  (0.8476357267950964, 0.20464135021097052)),\n ((0.9125043782837128, 0.11324894514767936),\n  (0.851138353765324, 0.12658227848101267)),\n ((0.9125043782837128, 0.11324894514767936),\n  (0.9387040280210157, 0.10759493670886079)),\n ((0.9125043782837128, 0.11324894514767936),\n  (0.9754816112084063, 0.12447257383966243)),\n ((0.9125043782837128, 0.11324894514767936),\n  (0.9089316987740805, 0.06962025316455706)),\n ((0.9125043782837128, 0.11324894514767936),\n  (0.8774080560420315, 0.09704641350210974)),\n ((0.9125043782837128, 0.11324894514767936),\n  (0.8774080560420315, 0.10548523206751055)),\n ((0.9125043782837128, 0.11324894514767936),\n  (0.9387040280210157, 0.1329113924050634)),\n ((0.9125043782837128, 0.11324894514767936),\n  (0.9422066549912435, 0.17299578059071735)),\n ((0.9125043782837128, 0.11324894514767936),\n  (0.9246935201401051, 0.12658227848101267)),\n ((0.9125043782837128, 0.11324894514767936),\n  (0.9457092819614711, 0.06751054852320681)),\n ((0.9125043782837128, 0.11324894514767936),\n  (0.9352014010507881, 0.11181434599156127)),\n ((0.9125043782837128, 0.11324894514767936),\n  (0.8633975481611208, 0.14345991561181445)),\n ((0.9125043782837128, 0.11324894514767936),\n  (0.9281961471103327, 0.14345991561181445)),\n ((0.9125043782837128, 0.11324894514767936),\n  (0.8896672504378283, 0.054852320675105516)),\n ((0.9125043782837128, 0.11324894514767936),\n  (0.8966725043782837, 0.09704641350210974)),\n ((0.9125043782837128, 0.11324894514767936),\n  (0.9281961471103327, 0.07594936708860762)),\n ((0.9125043782837128, 0.11324894514767936),\n  (0.8984238178633975, 0.06962025316455706)),\n ((0.9125043782837128, 0.11324894514767936),\n  (0.9124343257443083, 0.21308016877637134)),\n ((0.9125043782837128, 0.11324894514767936),\n  (0.8791593695271454, 0.08649789029535868)),\n ((0.9125043782837128, 0.11324894514767936),\n  (0.8844133099824869, 0.10337552742616031)),\n ((0.9125043782837128, 0.11324894514767936),\n  (0.9877408056042032, 0.13502109704641346)),\n ((0.9125043782837128, 0.11324894514767936),\n  (0.9474605954465849, 0.10759493670886079)),\n ((0.9125043782837128, 0.11324894514767936),\n  (0.9054290718038529, 0.1329113924050634)),\n ((0.9125043782837128, 0.11324894514767936),\n  (0.9001751313485113, 0.13502109704641346)),\n ((0.9125043782837128, 0.11324894514767936),\n  (0.9141856392294221, 0.16244725738396631)),\n ((0.9125043782837128, 0.11324894514767936),\n  (0.9281961471103327, 0.11392405063291136)),\n ((0.9125043782837128, 0.11324894514767936),\n  (0.9667250437828371, 0.08860759493670892)),\n ((0.9125043782837128, 0.11324894514767936),\n  (0.8686514886164624, 0.09704641350210974)),\n ((0.9125043782837128, 0.11324894514767936),\n  (0.9702276707530648, 0.1540084388185655)),\n ((0.9125043782837128, 0.11324894514767936),\n  (0.9369527145359019, 0.09282700421940926)),\n ((0.9125043782837128, 0.11324894514767936),\n  (0.9141856392294221, 0.08860759493670892)),\n ((0.9125043782837128, 0.11324894514767936),\n  (0.8563922942206655, 0.1329113924050634)),\n ((0.9125043782837128, 0.11324894514767936),\n  (0.9422066549912435, 0.11181434599156127)),\n ((0.9125043782837128, 0.11324894514767936),\n  (0.9439579684763573, 0.06751054852320681)),\n ((0.9125043782837128, 0.11324894514767936),\n  (0.8931698774080561, 0.15822784810126583)),\n ((0.9125043782837128, 0.11324894514767936),\n  (0.87215411558669, 0.06118143459915609)),\n ((0.9125043782837128, 0.11324894514767936),\n  (0.8388791593695272, 0.07383966244725738)),\n ((0.9125043782837128, 0.11324894514767936),\n  (0.9422066549912435, 0.09915611814345998)),\n ((0.9125043782837128, 0.11324894514767936),\n  (0.8598949211908932, 0.13502109704641346)),\n ((0.9125043782837128, 0.11324894514767936),\n  (0.8949211908931699, 0.18143459915611818)),\n ((0.9125043782837128, 0.11324894514767936),\n  (0.8861646234676007, 0.10126582278481022)),\n ((0.9125043782837128, 0.11324894514767936),\n  (0.9334500875656743, 0.14556962025316453)),\n ((0.9125043782837128, 0.11324894514767936),\n  (0.9019264448336253, 0.1371308016877637)),\n ((0.9125043782837128, 0.11324894514767936),\n  (0.9036777583187391, 0.10548523206751055)),\n ((0.9125043782837128, 0.11324894514767936),\n  (0.8844133099824869, 0.054852320675105516)),\n ((0.9125043782837128, 0.11324894514767936),\n  (0.9054290718038529, 0.12236286919831232)),\n ((0.9125043782837128, 0.11324894514767936),\n  (0.9054290718038529, 0.12447257383966243)),\n ((0.9125043782837128, 0.11324894514767936),\n  (0.9124343257443083, 0.10126582278481022)),\n ((0.9125043782837128, 0.11324894514767936),\n  (0.8949211908931699, 0.0949367088607595)),\n ((0.9125043782837128, 0.11324894514767936),\n  (0.9597197898423818, 0.16244725738396631)),\n ((0.9125043782837128, 0.11324894514767936),\n  (0.9089316987740805, 0.08649789029535868)),\n ((0.9125043782837128, 0.11324894514767936),\n  (0.9369527145359019, 0.12236286919831232)),\n ((0.9125043782837128, 0.11324894514767936),\n  (0.9054290718038529, 0.04852320675105495)),\n ((0.9125043782837128, 0.11324894514767936),\n  (0.9141856392294221, 0.16033755274261607)),\n ((0.9125043782837128, 0.11324894514767936),\n  (0.9982486865148862, 0.1160337552742616)),\n ((0.9125043782837128, 0.11324894514767936),\n  (0.9211908931698775, 0.13924050632911394)),\n ((0.9125043782837128, 0.11324894514767936),\n  (0.882661996497373, 0.16877637130801687)),\n ((0.9125043782837128, 0.11324894514767936),\n  (0.9702276707530648, 0.029535864978902926)),\n ((0.9125043782837128, 0.11324894514767936),\n  (0.9422066549912435, 0.11814345991561184)),\n ((0.9125043782837128, 0.11324894514767936),\n  (0.9281961471103327, 0.0801687763713081)),\n ((0.9125043782837128, 0.11324894514767936),\n  (0.9229422066549913, 0.10337552742616031)),\n ((0.9125043782837128, 0.11324894514767936),\n  (0.9194395796847635, 0.04852320675105495)),\n ((0.9125043782837128, 0.11324894514767936),\n  (0.8931698774080561, 0.08438818565400844)),\n ((0.9125043782837128, 0.11324894514767936),\n  (0.9562171628721541, 0.09915611814345998)),\n ((0.9125043782837128, 0.11324894514767936),\n  (0.9141856392294221, 0.10548523206751055)),\n ((0.9125043782837128, 0.11324894514767936),\n  (0.9176882661996497, 0.10548523206751055)),\n ((0.9125043782837128, 0.11324894514767936),\n  (0.9176882661996497, 0.12447257383966243)),\n ((0.9125043782837128, 0.11324894514767936),\n  (0.8914185639229422, 0.05696202531645576)),\n ((0.9125043782837128, 0.11324894514767936),\n  (0.8949211908931699, 0.18776371308016876)),\n ((0.9125043782837128, 0.11324894514767936),\n  (0.87215411558669, 0.18776371308016876)),\n ((0.9125043782837128, 0.11324894514767936),\n  (0.8774080560420315, 0.149789029535865)),\n ((0.9125043782837128, 0.11324894514767936),\n  (0.9509632224168126, 0.13080168776371315)),\n ((0.9125043782837128, 0.11324894514767936),\n  (0.8248686514886164, 0.14345991561181445)),\n ((0.9125043782837128, 0.11324894514767936),\n  (0.9422066549912435, 0.14767932489451477)),\n ((0.9125043782837128, 0.11324894514767936),\n  (0.9457092819614711, 0.1329113924050634)),\n ((0.9125043782837128, 0.11324894514767936),\n  (0.8984238178633975, 0.1160337552742616)),\n ((0.9125043782837128, 0.11324894514767936),\n  (0.9019264448336253, 0.14345991561181445)),\n ((0.9125043782837128, 0.11324894514767936),\n  (0.8966725043782837, 0.10126582278481022)),\n ((0.9125043782837128, 0.11324894514767936),\n  (0.9176882661996497, 0.1329113924050634)),\n ((0.9125043782837128, 0.11324894514767936),\n  (0.9404553415061296, 0.050632911392405035)),\n ((0.9125043782837128, 0.11324894514767936),\n  (0.9509632224168126, 0.1329113924050634)),\n ((0.9125043782837128, 0.11324894514767936),\n  (0.9457092819614711, 0.09704641350210974)),\n ((0.9125043782837128, 0.11324894514767936),\n  (0.8546409807355516, 0.09704641350210974)),\n ((0.9125043782837128, 0.11324894514767936),\n  (0.8563922942206655, 0.1371308016877637)),\n ((0.9125043782837128, 0.11324894514767936),\n  (0.8651488616462347, 0.12025316455696208)),\n ((0.9125043782837128, 0.11324894514767936),\n  (0.9141856392294221, 0.16666666666666663)),\n ((0.9125043782837128, 0.11324894514767936),\n  (0.8984238178633975, 0.10759493670886079)),\n ((0.9125043782837128, 0.11324894514767936),\n  (0.9106830122591943, 0.1540084388185655)),\n ((0.9125043782837128, 0.11324894514767936),\n  (0.9159369527145359, 0.11392405063291136)),\n ((0.9125043782837128, 0.11324894514767936),\n  (0.9071803852889667, 0.046413502109704706)),\n ((0.9125043782837128, 0.11324894514767936),\n  (0.8949211908931699, 0.10126582278481022)),\n ((0.9125043782837128, 0.11324894514767936),\n  (0.9176882661996497, 0.08649789029535868)),\n ((0.9125043782837128, 0.11324894514767936), (0.9334500875656743, 0.0)),\n ((0.9125043782837128, 0.11324894514767936),\n  (0.9492119089316988, 0.16666666666666663)),\n ((0.9125043782837128, 0.11324894514767936),\n  (0.9071803852889667, 0.12236286919831232)),\n ((0.9125043782837128, 0.11324894514767936),\n  (0.9211908931698775, 0.1413502109704642)),\n ((0.9125043782837128, 0.11324894514767936), (1.0, 0.07383966244725738)),\n ((0.9125043782837128, 0.11324894514767936),\n  (0.8949211908931699, 0.06540084388185657))]"
     ]
    }
   ],
   "source": [
    "final_clustered_data.take(300)"
   ]
  },
  {
   "cell_type": "markdown",
   "metadata": {
    "application/vnd.databricks.v1+cell": {
     "cellMetadata": {
      "byteLimit": 2048000,
      "rowLimit": 10000
     },
     "inputWidgets": {},
     "nuid": "df5c3857-0efb-4ab8-bfb7-7f8c1bf6c6d7",
     "showTitle": false,
     "title": ""
    }
   },
   "source": [
    "\n",
    "#### Denormalize a data point to its original scale based on min-max scaling parameters.\n"
   ]
  },
  {
   "cell_type": "code",
   "execution_count": 0,
   "metadata": {
    "application/vnd.databricks.v1+cell": {
     "cellMetadata": {
      "byteLimit": 2048000,
      "rowLimit": 10000
     },
     "inputWidgets": {},
     "nuid": "25e1269a-6037-4ef1-8dff-bec0208eb248",
     "showTitle": false,
     "title": ""
    }
   },
   "outputs": [
    {
     "output_type": "stream",
     "name": "stdout",
     "output_type": "stream",
     "text": [
      "Out[17]: [((16821, 40.41), (19100, 40.25)),\n ((16821, 40.41), (19800, 41.45)),\n ((19425, 34.58), (13000, 36.8)),\n ((16821, 40.41), (18200, 41.15)),\n ((16821, 40.41), (22100, 46.65)),\n ((16821, 40.41), (16700, 40.2)),\n ((16821, 40.41), (13200, 38.95)),\n ((16821, 40.41), (12500, 38.35)),\n ((16821, 40.41), (6100, 37.3)),\n ((16821, 40.41), (18800, 43.55))]"
     ]
    }
   ],
   "source": [
    "def denormalize_data(data_point, min_inc, max_inc, min_age, max_age):\n",
    "    \"\"\"\n",
    "    Args:\n",
    "        data_point (tuple): A tuple representing a normalized data point.\n",
    "        min_inc (int): Minimum income in the original data.\n",
    "        max_inc (int): Maximum income in the original data.\n",
    "        min_age (float): Minimum age in the original data.\n",
    "        max_age (float): Maximum age in the original data.\n",
    "\n",
    "    Returns:\n",
    "        tuple: A tuple with denormalized income and age values.\n",
    "    \"\"\"\n",
    "    income, age = data_point\n",
    "    denormalized_income = round(income * (max_income - min_income) + min_income)\n",
    "    denormalized_age = round(age * (max_age - min_age) + min_age, 2)\n",
    "    return (denormalized_income, denormalized_age)\n",
    "\n",
    "# Denormalize the clustered data to the original scale\n",
    "final_clustered_data_denorm = final_clustered_data.map(lambda rec: (denormalize_data(rec[0], min_income, max_income, min_age, max_age),\n",
    "                                                                   denormalize_data(rec[1], min_income, max_income, min_age, max_age)))\n",
    "\n",
    "# Take the first 5 denormalized clustered data points\n",
    "final_clustered_data_denorm.take(10)"
   ]
  },
  {
   "cell_type": "code",
   "execution_count": 0,
   "metadata": {
    "application/vnd.databricks.v1+cell": {
     "cellMetadata": {
      "byteLimit": 2048000,
      "rowLimit": 10000
     },
     "inputWidgets": {},
     "nuid": "60317c47-a258-4ad5-a2d0-2d2ee7b09332",
     "showTitle": false,
     "title": ""
    }
   },
   "outputs": [
    {
     "output_type": "stream",
     "name": "stdout",
     "output_type": "stream",
     "text": [
      "Out[18]: (300,\n [((16821, 40.41), (19100, 40.25)),\n  ((16821, 40.41), (19800, 41.45)),\n  ((19425, 34.58), (13000, 36.8)),\n  ((16821, 40.41), (18200, 41.15)),\n  ((16821, 40.41), (22100, 46.65)),\n  ((16821, 40.41), (16700, 40.2)),\n  ((16821, 40.41), (13200, 38.95)),\n  ((16821, 40.41), (12500, 38.35)),\n  ((16821, 40.41), (6100, 37.3)),\n  ((16821, 40.41), (18800, 43.55)),\n  ((16821, 40.41), (20900, 39.95)),\n  ((16821, 40.41), (27600, 41.35)),\n  ((16821, 40.41), (15700, 40.55)),\n  ((16821, 40.41), (15000, 44.15)),\n  ((16821, 40.41), (25400, 39.8)),\n  ((16821, 40.41), (23200, 43.25)),\n  ((16821, 40.41), (3200, 39.65)),\n  ((16821, 40.41), (11500, 44.15)),\n  ((16821, 40.41), (3700, 40.45)),\n  ((16821, 40.41), (3100, 42.6)),\n  ((16821, 40.41), (25900, 39.2)),\n  ((16821, 40.41), (9900, 37.5)),\n  ((16821, 40.41), (9600, 42.4)),\n  ((16821, 40.41), (27400, 38.75)),\n  ((16821, 40.41), (8900, 41.05)),\n  ((16821, 40.41), (12900, 40.7)),\n  ((16821, 40.41), (22200, 40.9)),\n  ((16821, 40.41), (17900, 38.95)),\n  ((16821, 40.41), (17000, 38.05)),\n  ((16821, 40.41), (4100, 41.0)),\n  ((16821, 40.41), (5100, 40.0)),\n  ((16821, 40.41), (23000, 40.55)),\n  ((16821, 40.41), (17300, 37.55)),\n  ((16821, 40.41), (10800, 37.55)),\n  ((16821, 40.41), (19400, 40.35)),\n  ((16821, 40.41), (18000, 44.9)),\n  ((16821, 40.41), (25800, 40.55)),\n  ((16821, 40.41), (17600, 38.75)),\n  ((16821, 40.41), (21700, 45.7)),\n  ((16821, 40.41), (15900, 37.95)),\n  ((16821, 40.41), (26200, 41.65)),\n  ((16821, 40.41), (22200, 41.75)),\n  ((16821, 40.41), (25500, 39.6)),\n  ((16821, 40.41), (25300, 39.85)),\n  ((16821, 40.41), (15100, 40.2)),\n  ((16821, 40.41), (16400, 38.85)),\n  ((16821, 40.41), (12600, 39.3)),\n  ((16821, 40.41), (18800, 39.9)),\n  ((16821, 40.41), (11800, 42.35)),\n  ((16821, 40.41), (14600, 40.3)),\n  ((16821, 40.41), (5600, 37.7)),\n  ((16821, 40.41), (12300, 42.45)),\n  ((16821, 40.41), (20000, 42.3)),\n  ((16821, 40.41), (23500, 41.15)),\n  ((16821, 40.41), (16200, 48.05)),\n  ((19425, 34.58), (10300, 36.9)),\n  ((16821, 40.41), (13400, 38.1)),\n  ((16821, 40.41), (22300, 40.1)),\n  ((16821, 40.41), (28300, 39.8)),\n  ((16821, 40.41), (14300, 39.2)),\n  ((16821, 40.41), (22400, 39.45)),\n  ((16821, 40.41), (15100, 37.8)),\n  ((16821, 40.41), (21100, 39.4)),\n  ((16821, 40.41), (13100, 40.4)),\n  ((16821, 40.41), (18300, 39.2)),\n  ((16821, 40.41), (26300, 38.65)),\n  ((19425, 34.58), (18200, 35.8)),\n  ((19425, 34.58), (8000, 36.5)),\n  ((16821, 40.41), (23900, 38.3)),\n  ((19425, 34.58), (27300, 30.65)),\n  ((19425, 34.58), (17000, 28.95)),\n  ((19425, 34.58), (28000, 37.4)),\n  ((19425, 34.58), (16100, 36.15)),\n  ((19425, 34.58), (8300, 34.1)),\n  ((19425, 34.58), (18400, 36.75)),\n  ((19425, 34.58), (17000, 35.55)),\n  ((19425, 34.58), (21400, 36.5)),\n  ((19425, 34.58), (22900, 36.2)),\n  ((19425, 34.58), (21200, 35.35)),\n  ((19425, 34.58), (18200, 36.4)),\n  ((19425, 34.58), (22900, 33.2)),\n  ((19425, 34.58), (17800, 37.1)),\n  ((19425, 34.58), (25800, 30.3)),\n  ((19425, 34.58), (16400, 31.9)),\n  ((19425, 34.58), (10400, 32.7)),\n  ((19425, 34.58), (26300, 30.0)),\n  ((19425, 34.58), (29000, 36.5)),\n  ((19425, 34.58), (16500, 34.65)),\n  ((19425, 34.58), (21100, 33.35)),\n  ((19425, 34.58), (14100, 35.7)),\n  ((39427, 43.58), (31900, 43.05)),\n  ((39427, 43.58), (46300, 44.3)),\n  ((39427, 43.58), (40600, 43.7)),\n  ((39427, 43.58), (47300, 43.3)),\n  ((39427, 43.58), (40200, 45.65)),\n  ((39427, 43.58), (44600, 44.2)),\n  ((39427, 43.58), (30400, 45.6)),\n  ((39427, 43.58), (39500, 45.6)),\n  ((39427, 43.58), (41500, 45.15)),\n  ((39427, 43.58), (43300, 43.75)),\n  ((39427, 43.58), (26000, 44.4)),\n  ((39427, 43.58), (42200, 42.05)),\n  ((39427, 43.58), (46600, 43.45)),\n  ((39427, 43.58), (42700, 44.15)),\n  ((39427, 43.58), (52300, 43.8)),\n  ((39427, 43.58), (41500, 43.05)),\n  ((39427, 43.58), (26300, 44.55)),\n  ((39427, 43.58), (41200, 42.55)),\n  ((39427, 43.58), (49300, 44.05)),\n  ((16821, 40.41), (25100, 43.2)),\n  ((39427, 43.58), (47300, 43.3)),\n  ((39427, 43.58), (53800, 43.6)),\n  ((39427, 43.58), (33800, 39.45)),\n  ((39427, 43.58), (40800, 43.45)),\n  ((39427, 43.58), (31900, 42.0)),\n  ((39427, 43.58), (30300, 41.55)),\n  ((39427, 43.58), (38300, 46.1)),\n  ((39427, 43.58), (27400, 44.15)),\n  ((39427, 43.58), (41800, 44.85)),\n  ((39427, 43.58), (38600, 39.35)),\n  ((44773, 47.43), (41100, 48.75)),\n  ((44773, 47.43), (47800, 46.75)),\n  ((44773, 47.43), (39900, 48.2)),\n  ((44773, 47.43), (46500, 47.2)),\n  ((44773, 47.43), (46400, 45.15)),\n  ((44773, 47.43), (46000, 44.8)),\n  ((44773, 47.43), (41200, 47.3)),\n  ((44773, 47.43), (40500, 48.65)),\n  ((44773, 47.43), (41700, 47.6)),\n  ((44773, 47.43), (41100, 46.6)),\n  ((44773, 47.43), (43700, 48.1)),\n  ((44773, 47.43), (50900, 49.45)),\n  ((44773, 47.43), (42100, 46.6)),\n  ((44773, 47.43), (42200, 47.85)),\n  ((44773, 47.43), (45600, 48.45)),\n  ((44773, 47.43), (43300, 46.05)),\n  ((44773, 47.43), (45000, 47.1)),\n  ((44773, 47.43), (48400, 47.15)),\n  ((44773, 47.43), (41800, 49.6)),\n  ((44773, 47.43), (54300, 48.4)),\n  ((44773, 47.43), (44500, 49.95)),\n  ((44773, 47.43), (50700, 46.1)),\n  ((44773, 47.43), (39700, 48.45)),\n  ((44773, 47.43), (44800, 50.1)),\n  ((44773, 47.43), (49200, 47.85)),\n  ((44773, 47.43), (48600, 46.2)),\n  ((44773, 47.43), (46200, 47.95)),\n  ((44773, 47.43), (40600, 47.9)),\n  ((44773, 47.43), (53400, 49.2)),\n  ((44773, 47.43), (45300, 47.3)),\n  ((44773, 47.43), (40300, 46.6)),\n  ((44773, 47.43), (52200, 48.35)),\n  ((44773, 47.43), (42100, 45.8)),\n  ((44773, 47.43), (40100, 48.3)),\n  ((44773, 47.43), (39800, 48.05)),\n  ((44773, 47.43), (42700, 45.65)),\n  ((44773, 47.43), (43100, 48.95)),\n  ((44773, 47.43), (37900, 50.4)),\n  ((44773, 47.43), (49700, 48.9)),\n  ((44773, 47.43), (41300, 50.35)),\n  ((44773, 47.43), (48200, 45.2)),\n  ((44773, 47.43), (47100, 46.1)),\n  ((44773, 47.43), (44900, 46.15)),\n  ((44773, 47.43), (42200, 45.8)),\n  ((44773, 47.43), (42800, 50.4)),\n  ((44773, 47.43), (50700, 50.3)),\n  ((39427, 43.58), (46300, 44.35)),\n  ((44773, 47.43), (45300, 49.45)),\n  ((44773, 47.43), (44300, 47.35)),\n  ((44773, 47.43), (43200, 45.9)),\n  ((44773, 47.43), (44600, 47.4)),\n  ((44773, 47.43), (46000, 49.15)),\n  ((44773, 47.43), (44400, 45.2)),\n  ((44773, 47.43), (47200, 48.35)),\n  ((44773, 47.43), (38800, 47.4)),\n  ((44773, 47.43), (43000, 50.2)),\n  ((44773, 47.43), (45500, 45.7)),\n  ((44773, 47.43), (43400, 46.85)),\n  ((44773, 47.43), (38200, 47.45)),\n  ((44773, 47.43), (45400, 47.3)),\n  ((39427, 43.58), (43100, 45.0)),\n  ((44773, 47.43), (40100, 50.4)),\n  ((39427, 43.58), (41300, 45.35)),\n  ((44773, 47.43), (43500, 46.65)),\n  ((44773, 47.43), (45400, 47.8)),\n  ((44773, 47.43), (47500, 47.35)),\n  ((44773, 47.43), (39600, 47.05)),\n  ((44773, 47.43), (48600, 46.2)),\n  ((44773, 47.43), (49500, 46.15)),\n  ((39427, 43.58), (49300, 44.35)),\n  ((44773, 47.43), (34600, 47.85)),\n  ((44773, 47.43), (42000, 46.2)),\n  ((44773, 47.43), (48200, 45.05)),\n  ((44773, 47.43), (47800, 48.15)),\n  ((44773, 47.43), (42900, 46.55)),\n  ((44773, 47.43), (48600, 46.7)),\n  ((44773, 47.43), (52500, 49.5)),\n  ((44773, 47.43), (49500, 47.15)),\n  ((44773, 47.43), (47700, 46.8)),\n  ((44773, 47.43), (46900, 46.2)),\n  ((55204, 29.38), (54100, 28.1)),\n  ((55204, 29.38), (51500, 31.55)),\n  ((55204, 29.38), (51700, 29.7)),\n  ((55204, 29.38), (56700, 29.25)),\n  ((55204, 29.38), (58800, 29.65)),\n  ((55204, 29.38), (55000, 28.35)),\n  ((55204, 29.38), (53200, 29.0)),\n  ((55204, 29.38), (53200, 29.2)),\n  ((55204, 29.38), (56700, 29.85)),\n  ((55204, 29.38), (56900, 30.8)),\n  ((55204, 29.38), (55900, 29.7)),\n  ((55204, 29.38), (57100, 28.3)),\n  ((55204, 29.38), (56500, 29.35)),\n  ((55204, 29.38), (52400, 30.1)),\n  ((55204, 29.38), (56100, 30.1)),\n  ((55204, 29.38), (53900, 28.0)),\n  ((55204, 29.38), (54300, 29.0)),\n  ((55204, 29.38), (56100, 28.5)),\n  ((55204, 29.38), (54400, 28.35)),\n  ((55204, 29.38), (55200, 31.75)),\n  ((55204, 29.38), (53300, 28.75)),\n  ((55204, 29.38), (53600, 29.15)),\n  ((55204, 29.38), (59500, 29.9)),\n  ((55204, 29.38), (57200, 29.25)),\n  ((55204, 29.38), (54800, 29.85)),\n  ((55204, 29.38), (54500, 29.9)),\n  ((55204, 29.38), (55300, 30.55)),\n  ((55204, 29.38), (56100, 29.4)),\n  ((55204, 29.38), (58300, 28.8)),\n  ((55204, 29.38), (52700, 29.0)),\n  ((55204, 29.38), (58500, 30.35)),\n  ((55204, 29.38), (56600, 28.9)),\n  ((55204, 29.38), (55300, 28.8)),\n  ((55204, 29.38), (52000, 29.85)),\n  ((55204, 29.38), (56900, 29.35)),\n  ((55204, 29.38), (57000, 28.3)),\n  ((55204, 29.38), (54100, 30.45)),\n  ((55204, 29.38), (52900, 28.15)),\n  ((55204, 29.38), (51000, 28.45)),\n  ((55204, 29.38), (56900, 29.05)),\n  ((55204, 29.38), (52200, 29.9)),\n  ((55204, 29.38), (54200, 31.0)),\n  ((55204, 29.38), (53700, 29.1)),\n  ((55204, 29.38), (56400, 30.15)),\n  ((55204, 29.38), (54600, 29.95)),\n  ((55204, 29.38), (54700, 29.2)),\n  ((55204, 29.38), (53600, 28.0)),\n  ((55204, 29.38), (54800, 29.6)),\n  ((55204, 29.38), (54800, 29.65)),\n  ((55204, 29.38), (55200, 29.1)),\n  ((55204, 29.38), (54200, 28.95)),\n  ((55204, 29.38), (57900, 30.55)),\n  ((55204, 29.38), (55000, 28.75)),\n  ((55204, 29.38), (56600, 29.6)),\n  ((55204, 29.38), (54800, 27.85)),\n  ((55204, 29.38), (55300, 30.5)),\n  ((55204, 29.38), (60100, 29.45)),\n  ((55204, 29.38), (55700, 30.0)),\n  ((55204, 29.38), (53500, 30.7)),\n  ((55204, 29.38), (58500, 27.4)),\n  ((55204, 29.38), (56900, 29.5)),\n  ((55204, 29.38), (56100, 28.6)),\n  ((55204, 29.38), (55800, 29.15)),\n  ((55204, 29.38), (55600, 27.85)),\n  ((55204, 29.38), (54100, 28.7)),\n  ((55204, 29.38), (57700, 29.05)),\n  ((55204, 29.38), (55300, 29.2)),\n  ((55204, 29.38), (55500, 29.2)),\n  ((55204, 29.38), (55500, 29.65)),\n  ((55204, 29.38), (54000, 28.05)),\n  ((55204, 29.38), (54200, 31.15)),\n  ((55204, 29.38), (52900, 31.15)),\n  ((55204, 29.38), (53200, 30.25)),\n  ((55204, 29.38), (57400, 29.8)),\n  ((55204, 29.38), (50200, 30.1)),\n  ((55204, 29.38), (56900, 30.2)),\n  ((55204, 29.38), (57100, 29.85)),\n  ((55204, 29.38), (54400, 29.45)),\n  ((55204, 29.38), (54600, 30.1)),\n  ((55204, 29.38), (54300, 29.1)),\n  ((55204, 29.38), (55500, 29.85)),\n  ((55204, 29.38), (56800, 27.9)),\n  ((55204, 29.38), (57400, 29.85)),\n  ((55204, 29.38), (57100, 29.0)),\n  ((55204, 29.38), (51900, 29.0)),\n  ((55204, 29.38), (52000, 29.95)),\n  ((55204, 29.38), (52500, 29.55)),\n  ((55204, 29.38), (55300, 30.65)),\n  ((55204, 29.38), (54400, 29.25)),\n  ((55204, 29.38), (55100, 30.35)),\n  ((55204, 29.38), (55400, 29.4)),\n  ((55204, 29.38), (54900, 27.8)),\n  ((55204, 29.38), (54200, 29.1)),\n  ((55204, 29.38), (55500, 28.75)),\n  ((55204, 29.38), (56400, 26.7)),\n  ((55204, 29.38), (57300, 30.65)),\n  ((55204, 29.38), (54900, 29.6)),\n  ((55204, 29.38), (55700, 30.05)),\n  ((55204, 29.38), (60200, 28.45)),\n  ((55204, 29.38), (54200, 28.25))])"
     ]
    }
   ],
   "source": [
    "final_clustered_data_denorm.count(), final_clustered_data_denorm.take(300)"
   ]
  },
  {
   "cell_type": "markdown",
   "metadata": {
    "application/vnd.databricks.v1+cell": {
     "cellMetadata": {
      "byteLimit": 2048000,
      "rowLimit": 10000
     },
     "inputWidgets": {},
     "nuid": "92798c82-f453-463a-a18f-049f2a341417",
     "showTitle": false,
     "title": ""
    }
   },
   "source": [
    "\n",
    "#### Customers to retrieve for each cluster. Default is 10."
   ]
  },
  {
   "cell_type": "code",
   "execution_count": 0,
   "metadata": {
    "application/vnd.databricks.v1+cell": {
     "cellMetadata": {
      "byteLimit": 2048000,
      "rowLimit": 10000
     },
     "inputWidgets": {},
     "nuid": "4ca7ce8d-0eed-4cbd-b1aa-cdb8ace70e61",
     "showTitle": false,
     "title": ""
    }
   },
   "outputs": [
    {
     "output_type": "stream",
     "name": "stdout",
     "output_type": "stream",
     "text": [
      "Cluster Centroid: (39427, 43.58) -> Top 10 Customers: [(31900, 43.05), (46300, 44.3), (40600, 43.7), (47300, 43.3), (40200, 45.65), (44600, 44.2), (30400, 45.6), (39500, 45.6), (41500, 45.15), (43300, 43.75)]\n\nCluster Centroid: (44773, 47.43) -> Top 10 Customers: [(41100, 48.75), (47800, 46.75), (39900, 48.2), (46500, 47.2), (46400, 45.15), (46000, 44.8), (41200, 47.3), (40500, 48.65), (41700, 47.6), (41100, 46.6)]\n\nCluster Centroid: (16821, 40.41) -> Top 10 Customers: [(19100, 40.25), (19800, 41.45), (18200, 41.15), (22100, 46.65), (16700, 40.2), (13200, 38.95), (12500, 38.35), (6100, 37.3), (18800, 43.55), (20900, 39.95)]\n\nCluster Centroid: (19425, 34.58) -> Top 10 Customers: [(13000, 36.8), (10300, 36.9), (18200, 35.8), (8000, 36.5), (27300, 30.65), (17000, 28.95), (28000, 37.4), (16100, 36.15), (8300, 34.1), (18400, 36.75)]\n\nCluster Centroid: (55204, 29.38) -> Top 10 Customers: [(54100, 28.1), (51500, 31.55), (51700, 29.7), (56700, 29.25), (58800, 29.65), (55000, 28.35), (53200, 29.0), (53200, 29.2), (56700, 29.85), (56900, 30.8)]\n\n"
     ]
    }
   ],
   "source": [
    "def get_top_n_customers_per_cluster(clustered_data, n=10):\n",
    "    \"\"\"\n",
    "    Args:\n",
    "        clustered_data (RDD): An RDD containing clustered data with cluster assignments.\n",
    "        n (int): The number of top customers to retrieve for each cluster. Default is 10.\n",
    "\n",
    "    Returns:\n",
    "        list: A list of tuples where each tuple contains the cluster centroid and the top n customers.\n",
    "    \"\"\"\n",
    "    # Group clustered data by cluster centroid and convert values to lists\n",
    "    clustered_data_grouped = clustered_data.groupByKey().mapValues(list)\n",
    "\n",
    "    # Get the top n customers for each cluster\n",
    "    top_n_customers_per_cluster = clustered_data_grouped.map(lambda x: (x[0], x[1][:n]))\n",
    "\n",
    "    return top_n_customers_per_cluster.collect()\n",
    "\n",
    "# Get the top 10 customers for each cluster\n",
    "top_10_customers_per_cluster = get_top_n_customers_per_cluster(final_clustered_data_denorm, n=10)\n",
    "\n",
    "# Print the results\n",
    "for cluster_centroid, top_customers in top_10_customers_per_cluster:\n",
    "    print(f'Cluster Centroid: {cluster_centroid} -> Top {len(top_customers)} Customers: {top_customers}\\n')\n"
   ]
  },
  {
   "cell_type": "markdown",
   "metadata": {
    "application/vnd.databricks.v1+cell": {
     "cellMetadata": {
      "byteLimit": 2048000,
      "rowLimit": 10000
     },
     "inputWidgets": {},
     "nuid": "57d04ea1-d509-4a41-9c8f-a65ebfff3509",
     "showTitle": false,
     "title": ""
    }
   },
   "source": [
    "\n",
    "#### Collect the clustered data to create a DataFrame"
   ]
  },
  {
   "cell_type": "code",
   "execution_count": 0,
   "metadata": {
    "application/vnd.databricks.v1+cell": {
     "cellMetadata": {
      "byteLimit": 2048000,
      "rowLimit": 10000
     },
     "inputWidgets": {},
     "nuid": "85585604-70d2-48f5-b70b-81dacbe61f4e",
     "showTitle": false,
     "title": ""
    }
   },
   "outputs": [
    {
     "output_type": "display_data",
     "data": {
      "application/vnd.databricks.v1+bamboolib_hint": "{\"pd.DataFrames\": [], \"version\": \"0.0.1\"}",
      "text/plain": []
     },
     "metadata": {},
     "output_type": "display_data"
    },
    {
     "output_type": "display_data",
     "data": {
      "text/html": [
       "<div>\n",
       "<style scoped>\n",
       "    .dataframe tbody tr th:only-of-type {\n",
       "        vertical-align: middle;\n",
       "    }\n",
       "\n",
       "    .dataframe tbody tr th {\n",
       "        vertical-align: top;\n",
       "    }\n",
       "\n",
       "    .dataframe thead th {\n",
       "        text-align: right;\n",
       "    }\n",
       "</style>\n",
       "<table border=\"1\" class=\"dataframe\">\n",
       "  <thead>\n",
       "    <tr style=\"text-align: right;\">\n",
       "      <th></th>\n",
       "      <th>Centroid</th>\n",
       "      <th>Income_Age</th>\n",
       "    </tr>\n",
       "  </thead>\n",
       "  <tbody>\n",
       "    <tr>\n",
       "      <th>0</th>\n",
       "      <td>(16821, 40.41)</td>\n",
       "      <td>(19100, 40.25)</td>\n",
       "    </tr>\n",
       "    <tr>\n",
       "      <th>1</th>\n",
       "      <td>(16821, 40.41)</td>\n",
       "      <td>(19800, 41.45)</td>\n",
       "    </tr>\n",
       "    <tr>\n",
       "      <th>2</th>\n",
       "      <td>(19425, 34.58)</td>\n",
       "      <td>(13000, 36.8)</td>\n",
       "    </tr>\n",
       "    <tr>\n",
       "      <th>3</th>\n",
       "      <td>(16821, 40.41)</td>\n",
       "      <td>(18200, 41.15)</td>\n",
       "    </tr>\n",
       "    <tr>\n",
       "      <th>4</th>\n",
       "      <td>(16821, 40.41)</td>\n",
       "      <td>(22100, 46.65)</td>\n",
       "    </tr>\n",
       "  </tbody>\n",
       "</table>\n",
       "</div>"
      ]
     },
     "metadata": {
      "application/vnd.databricks.v1+output": {
       "addedWidgets": {},
       "arguments": {},
       "data": "<div>\n<style scoped>\n    .dataframe tbody tr th:only-of-type {\n        vertical-align: middle;\n    }\n\n    .dataframe tbody tr th {\n        vertical-align: top;\n    }\n\n    .dataframe thead th {\n        text-align: right;\n    }\n</style>\n<table border=\"1\" class=\"dataframe\">\n  <thead>\n    <tr style=\"text-align: right;\">\n      <th></th>\n      <th>Centroid</th>\n      <th>Income_Age</th>\n    </tr>\n  </thead>\n  <tbody>\n    <tr>\n      <th>0</th>\n      <td>(16821, 40.41)</td>\n      <td>(19100, 40.25)</td>\n    </tr>\n    <tr>\n      <th>1</th>\n      <td>(16821, 40.41)</td>\n      <td>(19800, 41.45)</td>\n    </tr>\n    <tr>\n      <th>2</th>\n      <td>(19425, 34.58)</td>\n      <td>(13000, 36.8)</td>\n    </tr>\n    <tr>\n      <th>3</th>\n      <td>(16821, 40.41)</td>\n      <td>(18200, 41.15)</td>\n    </tr>\n    <tr>\n      <th>4</th>\n      <td>(16821, 40.41)</td>\n      <td>(22100, 46.65)</td>\n    </tr>\n  </tbody>\n</table>\n</div>",
       "datasetInfos": [],
       "metadata": {},
       "removedWidgets": [],
       "textData": null,
       "type": "htmlSandbox"
      }
     },
     "output_type": "display_data"
    }
   ],
   "source": [
    "import pandas as pd\n",
    "\n",
    "# Collect the clustered data to create a DataFrame\n",
    "clustered_data = final_clustered_data_denorm.collect()\n",
    "\n",
    "# Create a DataFrame with appropriate column names\n",
    "clustered_df = pd.DataFrame(clustered_data, columns=['Centroid', 'Income_Age'])\n",
    "\n",
    "# Display the first few rows of the DataFrame\n",
    "clustered_df.head()\n"
   ]
  },
  {
   "cell_type": "code",
   "execution_count": 0,
   "metadata": {
    "application/vnd.databricks.v1+cell": {
     "cellMetadata": {
      "byteLimit": 2048000,
      "rowLimit": 10000
     },
     "inputWidgets": {},
     "nuid": "b2fdbd7a-0cf9-422d-8a6b-e1d2970abb15",
     "showTitle": false,
     "title": ""
    }
   },
   "outputs": [
    {
     "output_type": "display_data",
     "data": {
      "text/html": [
       "<div>\n",
       "<style scoped>\n",
       "    .dataframe tbody tr th:only-of-type {\n",
       "        vertical-align: middle;\n",
       "    }\n",
       "\n",
       "    .dataframe tbody tr th {\n",
       "        vertical-align: top;\n",
       "    }\n",
       "\n",
       "    .dataframe thead th {\n",
       "        text-align: right;\n",
       "    }\n",
       "</style>\n",
       "<table border=\"1\" class=\"dataframe\">\n",
       "  <thead>\n",
       "    <tr style=\"text-align: right;\">\n",
       "      <th></th>\n",
       "      <th>CustomerID</th>\n",
       "      <th>Income_Age</th>\n",
       "    </tr>\n",
       "  </thead>\n",
       "  <tbody>\n",
       "    <tr>\n",
       "      <th>0</th>\n",
       "      <td>1</td>\n",
       "      <td>(41100, 48.75)</td>\n",
       "    </tr>\n",
       "    <tr>\n",
       "      <th>1</th>\n",
       "      <td>2</td>\n",
       "      <td>(54100, 28.1)</td>\n",
       "    </tr>\n",
       "    <tr>\n",
       "      <th>2</th>\n",
       "      <td>3</td>\n",
       "      <td>(47800, 46.75)</td>\n",
       "    </tr>\n",
       "    <tr>\n",
       "      <th>3</th>\n",
       "      <td>4</td>\n",
       "      <td>(19100, 40.25)</td>\n",
       "    </tr>\n",
       "    <tr>\n",
       "      <th>4</th>\n",
       "      <td>5</td>\n",
       "      <td>(18200, 35.8)</td>\n",
       "    </tr>\n",
       "  </tbody>\n",
       "</table>\n",
       "</div>"
      ]
     },
     "metadata": {
      "application/vnd.databricks.v1+output": {
       "addedWidgets": {},
       "arguments": {},
       "data": "<div>\n<style scoped>\n    .dataframe tbody tr th:only-of-type {\n        vertical-align: middle;\n    }\n\n    .dataframe tbody tr th {\n        vertical-align: top;\n    }\n\n    .dataframe thead th {\n        text-align: right;\n    }\n</style>\n<table border=\"1\" class=\"dataframe\">\n  <thead>\n    <tr style=\"text-align: right;\">\n      <th></th>\n      <th>CustomerID</th>\n      <th>Income_Age</th>\n    </tr>\n  </thead>\n  <tbody>\n    <tr>\n      <th>0</th>\n      <td>1</td>\n      <td>(41100, 48.75)</td>\n    </tr>\n    <tr>\n      <th>1</th>\n      <td>2</td>\n      <td>(54100, 28.1)</td>\n    </tr>\n    <tr>\n      <th>2</th>\n      <td>3</td>\n      <td>(47800, 46.75)</td>\n    </tr>\n    <tr>\n      <th>3</th>\n      <td>4</td>\n      <td>(19100, 40.25)</td>\n    </tr>\n    <tr>\n      <th>4</th>\n      <td>5</td>\n      <td>(18200, 35.8)</td>\n    </tr>\n  </tbody>\n</table>\n</div>",
       "datasetInfos": [],
       "metadata": {},
       "removedWidgets": [],
       "textData": null,
       "type": "htmlSandbox"
      }
     },
     "output_type": "display_data"
    }
   ],
   "source": [
    "# Collect the customer data into a DataFrame\n",
    "customer_data = cus_conv.collect()\n",
    "\n",
    "# Create a DataFrame with appropriate column names\n",
    "customer_df = pd.DataFrame(customer_data, columns=['CustomerID', 'Income_Age'])\n",
    "\n",
    "# Display the first few rows of the DataFrame\n",
    "customer_df.head()"
   ]
  },
  {
   "cell_type": "code",
   "execution_count": 0,
   "metadata": {
    "application/vnd.databricks.v1+cell": {
     "cellMetadata": {
      "byteLimit": 2048000,
      "rowLimit": 10000
     },
     "inputWidgets": {},
     "nuid": "ce09cc66-d2b4-441d-b7b3-4518e6fe1d59",
     "showTitle": false,
     "title": ""
    }
   },
   "outputs": [
    {
     "output_type": "display_data",
     "data": {
      "text/html": [
       "<div>\n",
       "<style scoped>\n",
       "    .dataframe tbody tr th:only-of-type {\n",
       "        vertical-align: middle;\n",
       "    }\n",
       "\n",
       "    .dataframe tbody tr th {\n",
       "        vertical-align: top;\n",
       "    }\n",
       "\n",
       "    .dataframe thead th {\n",
       "        text-align: right;\n",
       "    }\n",
       "</style>\n",
       "<table border=\"1\" class=\"dataframe\">\n",
       "  <thead>\n",
       "    <tr style=\"text-align: right;\">\n",
       "      <th></th>\n",
       "      <th>CustomerID</th>\n",
       "      <th>Income_Age</th>\n",
       "    </tr>\n",
       "    <tr>\n",
       "      <th>Centroid</th>\n",
       "      <th></th>\n",
       "      <th></th>\n",
       "    </tr>\n",
       "  </thead>\n",
       "  <tbody>\n",
       "    <tr>\n",
       "      <th>(16821, 40.41)</th>\n",
       "      <td>[4, 6, 16, 19, 21, 26, 28, 31, 36, 41, 46, 49,...</td>\n",
       "      <td>[(19100, 40.25), (19800, 41.45), (18200, 41.15...</td>\n",
       "    </tr>\n",
       "    <tr>\n",
       "      <th>(19425, 34.58)</th>\n",
       "      <td>[5, 9, 25, 38, 48, 71, 78, 99, 126, 135, 140, ...</td>\n",
       "      <td>[(18200, 35.8), (13000, 36.8), (8000, 36.5), (...</td>\n",
       "    </tr>\n",
       "    <tr>\n",
       "      <th>(39427, 43.58)</th>\n",
       "      <td>[10, 18, 27, 33, 221, 43, 67, 72, 84, 90, 100,...</td>\n",
       "      <td>[(31900, 43.05), (46300, 44.3), (40600, 43.7),...</td>\n",
       "    </tr>\n",
       "    <tr>\n",
       "      <th>(44773, 47.43)</th>\n",
       "      <td>[1, 3, 8, 14, 17, 22, 24, 32, 39, 56, 57, 60, ...</td>\n",
       "      <td>[(41100, 48.75), (47800, 46.75), (39900, 48.2)...</td>\n",
       "    </tr>\n",
       "    <tr>\n",
       "      <th>(55204, 29.38)</th>\n",
       "      <td>[2, 7, 11, 12, 13, 15, 20, 23, 29, 30, 34, 35,...</td>\n",
       "      <td>[(54100, 28.1), (51500, 31.55), (51700, 29.7),...</td>\n",
       "    </tr>\n",
       "  </tbody>\n",
       "</table>\n",
       "</div>"
      ]
     },
     "metadata": {
      "application/vnd.databricks.v1+output": {
       "addedWidgets": {},
       "arguments": {},
       "data": "<div>\n<style scoped>\n    .dataframe tbody tr th:only-of-type {\n        vertical-align: middle;\n    }\n\n    .dataframe tbody tr th {\n        vertical-align: top;\n    }\n\n    .dataframe thead th {\n        text-align: right;\n    }\n</style>\n<table border=\"1\" class=\"dataframe\">\n  <thead>\n    <tr style=\"text-align: right;\">\n      <th></th>\n      <th>CustomerID</th>\n      <th>Income_Age</th>\n    </tr>\n    <tr>\n      <th>Centroid</th>\n      <th></th>\n      <th></th>\n    </tr>\n  </thead>\n  <tbody>\n    <tr>\n      <th>(16821, 40.41)</th>\n      <td>[4, 6, 16, 19, 21, 26, 28, 31, 36, 41, 46, 49,...</td>\n      <td>[(19100, 40.25), (19800, 41.45), (18200, 41.15...</td>\n    </tr>\n    <tr>\n      <th>(19425, 34.58)</th>\n      <td>[5, 9, 25, 38, 48, 71, 78, 99, 126, 135, 140, ...</td>\n      <td>[(18200, 35.8), (13000, 36.8), (8000, 36.5), (...</td>\n    </tr>\n    <tr>\n      <th>(39427, 43.58)</th>\n      <td>[10, 18, 27, 33, 221, 43, 67, 72, 84, 90, 100,...</td>\n      <td>[(31900, 43.05), (46300, 44.3), (40600, 43.7),...</td>\n    </tr>\n    <tr>\n      <th>(44773, 47.43)</th>\n      <td>[1, 3, 8, 14, 17, 22, 24, 32, 39, 56, 57, 60, ...</td>\n      <td>[(41100, 48.75), (47800, 46.75), (39900, 48.2)...</td>\n    </tr>\n    <tr>\n      <th>(55204, 29.38)</th>\n      <td>[2, 7, 11, 12, 13, 15, 20, 23, 29, 30, 34, 35,...</td>\n      <td>[(54100, 28.1), (51500, 31.55), (51700, 29.7),...</td>\n    </tr>\n  </tbody>\n</table>\n</div>",
       "datasetInfos": [],
       "metadata": {},
       "removedWidgets": [],
       "textData": null,
       "type": "htmlSandbox"
      }
     },
     "output_type": "display_data"
    }
   ],
   "source": [
    "# Merge customer data (customer_df) and clustered data (clustered_df) on the 'Income_Age' column\n",
    "merged_data = customer_df.merge(clustered_df, on='Income_Age')\n",
    "\n",
    "# Remove duplicate rows\n",
    "merged_data.drop_duplicates(inplace=True)\n",
    "\n",
    "# Group the merged data by 'Centroid' and aggregate lists of 'CustomerID' and 'Income_Age'\n",
    "grouped_data = merged_data.groupby('Centroid').agg({'CustomerID': list, 'Income_Age': list})\n",
    "\n",
    "# Rename the final DataFrame if needed (e.g., df)\n",
    "final_df = grouped_data\n",
    "\n",
    "final_df.head()"
   ]
  },
  {
   "cell_type": "markdown",
   "metadata": {
    "application/vnd.databricks.v1+cell": {
     "cellMetadata": {
      "byteLimit": 2048000,
      "rowLimit": 10000
     },
     "inputWidgets": {},
     "nuid": "afc63d26-7a20-4bd5-9b21-2a3203e7099c",
     "showTitle": false,
     "title": ""
    }
   },
   "source": [
    "\n",
    "#### Print the final results:\n",
    "###### a. First 10 customers for each segment\n",
    "###### b. Centroid values of each segment"
   ]
  },
  {
   "cell_type": "code",
   "execution_count": 0,
   "metadata": {
    "application/vnd.databricks.v1+cell": {
     "cellMetadata": {
      "byteLimit": 2048000,
      "rowLimit": 10000
     },
     "inputWidgets": {},
     "nuid": "2fdb7b61-abf7-46ac-bf08-0449d9eb7dbc",
     "showTitle": false,
     "title": ""
    }
   },
   "outputs": [
    {
     "output_type": "display_data",
     "data": {
      "text/html": [
       "<div>\n",
       "<style scoped>\n",
       "    .dataframe tbody tr th:only-of-type {\n",
       "        vertical-align: middle;\n",
       "    }\n",
       "\n",
       "    .dataframe tbody tr th {\n",
       "        vertical-align: top;\n",
       "    }\n",
       "\n",
       "    .dataframe thead th {\n",
       "        text-align: right;\n",
       "    }\n",
       "</style>\n",
       "<table border=\"1\" class=\"dataframe\">\n",
       "  <thead>\n",
       "    <tr style=\"text-align: right;\">\n",
       "      <th></th>\n",
       "      <th>CustomerID</th>\n",
       "      <th>Income_Age</th>\n",
       "    </tr>\n",
       "    <tr>\n",
       "      <th>Centroid</th>\n",
       "      <th></th>\n",
       "      <th></th>\n",
       "    </tr>\n",
       "  </thead>\n",
       "  <tbody>\n",
       "    <tr>\n",
       "      <th>(16821, 40.41)</th>\n",
       "      <td>[4, 6, 16, 19, 21, 26, 28, 31, 36, 41]</td>\n",
       "      <td>[(19100, 40.25), (19800, 41.45), (18200, 41.15), (22100, 46.65), (16700, 40.2), (13200, 38.95), (12500, 38.35), (23900, 38.3), (6100, 37.3), (18800, 43.55)]</td>\n",
       "    </tr>\n",
       "    <tr>\n",
       "      <th>(19425, 34.58)</th>\n",
       "      <td>[5, 9, 25, 38, 48, 71, 78, 99, 126, 135]</td>\n",
       "      <td>[(18200, 35.8), (13000, 36.8), (8000, 36.5), (27300, 30.65), (17000, 28.95), (28000, 37.4), (16100, 36.15), (8300, 34.1), (18400, 36.75), (17000, 35.55)]</td>\n",
       "    </tr>\n",
       "    <tr>\n",
       "      <th>(39427, 43.58)</th>\n",
       "      <td>[10, 18, 27, 33, 221, 43, 67, 72, 84, 90]</td>\n",
       "      <td>[(31900, 43.05), (46300, 44.3), (40600, 43.7), (47300, 43.3), (47300, 43.3), (40200, 45.65), (44600, 44.2), (30400, 45.6), (39500, 45.6), (41500, 45.15)]</td>\n",
       "    </tr>\n",
       "    <tr>\n",
       "      <th>(44773, 47.43)</th>\n",
       "      <td>[1, 3, 8, 14, 17, 22, 24, 32, 39, 56]</td>\n",
       "      <td>[(41100, 48.75), (47800, 46.75), (39900, 48.2), (46500, 47.2), (46400, 45.15), (46000, 44.8), (41200, 47.3), (40500, 48.65), (41700, 47.6), (41100, 46.6)]</td>\n",
       "    </tr>\n",
       "    <tr>\n",
       "      <th>(55204, 29.38)</th>\n",
       "      <td>[2, 7, 11, 12, 13, 15, 20, 23, 29, 30]</td>\n",
       "      <td>[(54100, 28.1), (51500, 31.55), (51700, 29.7), (56700, 29.25), (58800, 29.65), (55000, 28.35), (53200, 29.0), (53200, 29.2), (56700, 29.85), (56900, 30.8)]</td>\n",
       "    </tr>\n",
       "  </tbody>\n",
       "</table>\n",
       "</div>"
      ]
     },
     "metadata": {
      "application/vnd.databricks.v1+output": {
       "addedWidgets": {},
       "arguments": {},
       "data": "<div>\n<style scoped>\n    .dataframe tbody tr th:only-of-type {\n        vertical-align: middle;\n    }\n\n    .dataframe tbody tr th {\n        vertical-align: top;\n    }\n\n    .dataframe thead th {\n        text-align: right;\n    }\n</style>\n<table border=\"1\" class=\"dataframe\">\n  <thead>\n    <tr style=\"text-align: right;\">\n      <th></th>\n      <th>CustomerID</th>\n      <th>Income_Age</th>\n    </tr>\n    <tr>\n      <th>Centroid</th>\n      <th></th>\n      <th></th>\n    </tr>\n  </thead>\n  <tbody>\n    <tr>\n      <th>(16821, 40.41)</th>\n      <td>[4, 6, 16, 19, 21, 26, 28, 31, 36, 41]</td>\n      <td>[(19100, 40.25), (19800, 41.45), (18200, 41.15), (22100, 46.65), (16700, 40.2), (13200, 38.95), (12500, 38.35), (23900, 38.3), (6100, 37.3), (18800, 43.55)]</td>\n    </tr>\n    <tr>\n      <th>(19425, 34.58)</th>\n      <td>[5, 9, 25, 38, 48, 71, 78, 99, 126, 135]</td>\n      <td>[(18200, 35.8), (13000, 36.8), (8000, 36.5), (27300, 30.65), (17000, 28.95), (28000, 37.4), (16100, 36.15), (8300, 34.1), (18400, 36.75), (17000, 35.55)]</td>\n    </tr>\n    <tr>\n      <th>(39427, 43.58)</th>\n      <td>[10, 18, 27, 33, 221, 43, 67, 72, 84, 90]</td>\n      <td>[(31900, 43.05), (46300, 44.3), (40600, 43.7), (47300, 43.3), (47300, 43.3), (40200, 45.65), (44600, 44.2), (30400, 45.6), (39500, 45.6), (41500, 45.15)]</td>\n    </tr>\n    <tr>\n      <th>(44773, 47.43)</th>\n      <td>[1, 3, 8, 14, 17, 22, 24, 32, 39, 56]</td>\n      <td>[(41100, 48.75), (47800, 46.75), (39900, 48.2), (46500, 47.2), (46400, 45.15), (46000, 44.8), (41200, 47.3), (40500, 48.65), (41700, 47.6), (41100, 46.6)]</td>\n    </tr>\n    <tr>\n      <th>(55204, 29.38)</th>\n      <td>[2, 7, 11, 12, 13, 15, 20, 23, 29, 30]</td>\n      <td>[(54100, 28.1), (51500, 31.55), (51700, 29.7), (56700, 29.25), (58800, 29.65), (55000, 28.35), (53200, 29.0), (53200, 29.2), (56700, 29.85), (56900, 30.8)]</td>\n    </tr>\n  </tbody>\n</table>\n</div>",
       "datasetInfos": [],
       "metadata": {},
       "removedWidgets": [],
       "textData": null,
       "type": "htmlSandbox"
      }
     },
     "output_type": "display_data"
    }
   ],
   "source": [
    "# Truncate lists of 'CustomerID' and 'Income_Age' to the first 10 elements\n",
    "final_df['CustomerID'] = final_df['CustomerID'].apply(lambda x: x[:10])\n",
    "final_df['Income_Age'] = final_df['Income_Age'].apply(lambda x: x[:10])\n",
    "\n",
    "# Set the option to display the full content of columns\n",
    "pd.set_option('display.max_colwidth', None)\n",
    "\n",
    "final_df.head()"
   ]
  }
 ],
 "metadata": {
  "application/vnd.databricks.v1+notebook": {
   "dashboards": [],
   "language": "python",
   "notebookMetadata": {
    "mostRecentlyExecutedCommandWithImplicitDF": {
     "commandId": 4244823194122480,
     "dataframes": [
      "_sqldf"
     ]
    },
    "pythonIndentUnit": 4
   },
   "notebookName": "Assignment_work",
   "widgets": {}
  }
 },
 "nbformat": 4,
 "nbformat_minor": 0
}
